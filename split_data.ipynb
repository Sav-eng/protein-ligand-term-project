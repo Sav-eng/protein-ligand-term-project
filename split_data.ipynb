{
 "cells": [
  {
   "cell_type": "code",
   "execution_count": 1,
   "metadata": {
    "id": "FuFZa0sqKs1D"
   },
   "outputs": [],
   "source": [
    "import pandas as pd\n",
    "import os\n",
    "import numpy as np\n",
    "import random\n",
    "from sklearn.model_selection import train_test_split"
   ]
  },
  {
   "cell_type": "code",
   "execution_count": 2,
   "metadata": {
    "id": "ECBVtLgxOoN-"
   },
   "outputs": [],
   "source": [
    "TEST_SIZE = 350\n",
    "VALIDATE_SIZE = 1000"
   ]
  },
  {
   "cell_type": "code",
   "execution_count": 3,
   "metadata": {
    "id": "6InOWRKaLHjC"
   },
   "outputs": [],
   "source": [
    "REFINED_SET_PATH = 'refined_set.csv'\n",
    "GENERAL_SET_PATH = 'general_set.csv'\n",
    "TRAIN_TEST_VALIDATE_PATH = os.path.join('train_test_validate_set')"
   ]
  },
  {
   "cell_type": "code",
   "execution_count": 4,
   "metadata": {
    "id": "9o2XWrcWLRwG"
   },
   "outputs": [],
   "source": [
    "refined_data = pd.read_csv(REFINED_SET_PATH).iloc[:, 1:]\n",
    "general_data = pd.read_csv(GENERAL_SET_PATH).iloc[:, 1:]"
   ]
  },
  {
   "cell_type": "code",
   "execution_count": 5,
   "metadata": {},
   "outputs": [],
   "source": [
    "rest, test_set  = train_test_split(refined_data, test_size=TEST_SIZE)\n",
    "rest, validate_set = train_test_split(rest, test_size=VALIDATE_SIZE)\n",
    "train_set = pd.concat([rest, general_data], ignore_index=True)"
   ]
  },
  {
   "cell_type": "code",
   "execution_count": 6,
   "metadata": {},
   "outputs": [],
   "source": [
    "def create_directory(dirname):\n",
    "    if not os.path.exists(dirname):\n",
    "        os.makedirs(dirname)"
   ]
  },
  {
   "cell_type": "code",
   "execution_count": 7,
   "metadata": {},
   "outputs": [],
   "source": [
    "create_directory(TRAIN_TEST_VALIDATE_PATH)"
   ]
  },
  {
   "cell_type": "code",
   "execution_count": 8,
   "metadata": {
    "id": "z3VSRML-T9gR"
   },
   "outputs": [],
   "source": [
    "test_set.to_csv(os.path.join(TRAIN_TEST_VALIDATE_PATH, 'test.csv'))"
   ]
  },
  {
   "cell_type": "code",
   "execution_count": 9,
   "metadata": {},
   "outputs": [],
   "source": [
    "validate_set.to_csv(os.path.join(TRAIN_TEST_VALIDATE_PATH, 'validate.csv'))"
   ]
  },
  {
   "cell_type": "code",
   "execution_count": 10,
   "metadata": {
    "id": "i4_N1djzVHny"
   },
   "outputs": [],
   "source": [
    "train_set.to_csv(os.path.join(TRAIN_TEST_VALIDATE_PATH, 'train.csv'))"
   ]
  }
 ],
 "metadata": {
  "colab": {
   "collapsed_sections": [],
   "name": "split_data.ipynb",
   "provenance": []
  },
  "kernelspec": {
   "display_name": "Python 3",
   "language": "python",
   "name": "python3"
  },
  "language_info": {
   "codemirror_mode": {
    "name": "ipython",
    "version": 3
   },
   "file_extension": ".py",
   "mimetype": "text/x-python",
   "name": "python",
   "nbconvert_exporter": "python",
   "pygments_lexer": "ipython3",
   "version": "3.8.3"
  }
 },
 "nbformat": 4,
 "nbformat_minor": 1
}

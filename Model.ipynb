{
 "cells": [
  {
   "cell_type": "code",
   "execution_count": 1,
   "metadata": {
    "colab": {
     "base_uri": "https://localhost:8080/",
     "height": 73
    },
    "id": "EcKHByXooe2I",
    "outputId": "407b580a-6200-402c-9aae-9fb9a3d43625"
   },
   "outputs": [],
   "source": [
    "import sys\n",
    "from sklearn import preprocessing, model_selection\n",
    "import tensorflow as tf\n",
    "import pandas as pd\n",
    "import numpy as np\n",
    "import joblib\n",
    "import argparse\n",
    "from argparse import RawTextHelpFormatter, RawDescriptionHelpFormatter\n",
    "import os\n",
    "from scipy import stats\n",
    "from tqdm import tqdm\n",
    "import csv\n",
    "from tensorflow.python.client import device_lib \n",
    "from numba import cuda\n",
    "import gc"
   ]
  },
  {
   "cell_type": "code",
   "execution_count": 37,
   "metadata": {
    "colab": {
     "base_uri": "https://localhost:8080/",
     "height": 35
    },
    "id": "dV2TLY60vQEf",
    "outputId": "83f341a4-3248-4a7d-9bd6-49c6dc035e01"
   },
   "outputs": [],
   "source": [
    "# from google.colab import drive\n",
    "# drive.mount('/content/drive')"
   ]
  },
  {
   "cell_type": "code",
   "execution_count": 38,
   "metadata": {
    "id": "ggdhOwgEmV4J"
   },
   "outputs": [],
   "source": [
    "def rmse(y_true, y_pred):\n",
    "    dev = np.square(y_true.ravel() - y_pred.ravel())\n",
    "    return np.sqrt(np.sum(dev) / y_true.shape[0])\n",
    "\n",
    "\n",
    "def pcc(y_true, y_pred):\n",
    "    p = stats.pearsonr(y_true, y_pred)\n",
    "    return p[0]\n",
    "\n",
    "\n",
    "def pcc_rmse(y_true, y_pred):\n",
    "    global alpha\n",
    "\n",
    "    dev = np.square(y_true.ravel() - y_pred.ravel())\n",
    "    r = np.sqrt(np.sum(dev) / y_true.shape[0])\n",
    "\n",
    "    p = stats.pearsonr(y_true, y_pred)[0]\n",
    "\n",
    "    return (1-p)*alpha + r * (1 - alpha)\n",
    "\n",
    "\n",
    "def PCC_RMSE(y_true, y_pred):\n",
    "    global alpha\n",
    "\n",
    "    fsp = y_pred - tf.keras.backend.mean(y_pred)\n",
    "    fst = y_true - tf.keras.backend.mean(y_true)\n",
    "\n",
    "    devP = tf.keras.backend.std(y_pred)\n",
    "    devT = tf.keras.backend.std(y_true)\n",
    "\n",
    "    r = tf.keras.backend.sqrt(tf.keras.backend.mean(tf.keras.backend.square(y_pred - y_true), axis=-1))\n",
    "\n",
    "    p = 1.0 - tf.keras.backend.mean(fsp * fst) / (devP * devT)\n",
    "\n",
    "    #p = tf.where(tf.is_nan(p), 0.25, p)\n",
    "\n",
    "    return alpha * p + (1 - alpha) * r\n",
    "\n",
    "\n",
    "def RMSE(y_true, y_pred):\n",
    "    return tf.keras.backend.sqrt(tf.keras.backend.mean(tf.keras.backend.square(y_pred - y_true), axis=-1))\n",
    "\n",
    "\n",
    "def PCC(y_true, y_pred):\n",
    "    fsp = y_pred - tf.keras.backend.mean(y_pred)\n",
    "    fst = y_true - tf.keras.backend.mean(y_true)\n",
    "\n",
    "    devP = tf.keras.backend.std(y_pred)\n",
    "    devT = tf.keras.backend.std(y_true)\n",
    "\n",
    "    return tf.keras.backend.mean(fsp * fst) / (devP * devT)"
   ]
  },
  {
   "cell_type": "code",
   "execution_count": 39,
   "metadata": {
    "id": "shMpkycnoIgr"
   },
   "outputs": [],
   "source": [
    "def create_model(input_size, lr=0.0001, maxpool=True, dropout=0.1):\n",
    "    model = tf.keras.Sequential()\n",
    "\n",
    "    model.add(tf.keras.layers.Conv2D(32, kernel_size=4, strides=1,\n",
    "                                     padding=\"valid\", input_shape=input_size))\n",
    "    model.add(tf.keras.layers.Activation(\"relu\"))\n",
    "    if maxpool:\n",
    "        model.add(tf.keras.layers.MaxPooling2D(\n",
    "            pool_size=2,\n",
    "            strides=2,\n",
    "            padding='same',  # Padding method\n",
    "        ))\n",
    "\n",
    "    model.add(tf.keras.layers.Conv2D(64, 4, 1, padding=\"valid\"))\n",
    "    model.add(tf.keras.layers.Activation(\"relu\"))\n",
    "    if maxpool:\n",
    "        model.add(tf.keras.layers.MaxPooling2D(\n",
    "            pool_size=2,\n",
    "            strides=2,\n",
    "            padding='same',  # Padding method\n",
    "        ))\n",
    "\n",
    "    model.add(tf.keras.layers.Conv2D(128, 4, 1, padding=\"valid\"))\n",
    "    model.add(tf.keras.layers.Activation(\"relu\"))\n",
    "    if maxpool:\n",
    "        model.add(tf.keras.layers.MaxPooling2D(\n",
    "            pool_size=2,\n",
    "            strides=2,\n",
    "            padding='same',  # Padding method\n",
    "        ))\n",
    "\n",
    "    model.add(tf.keras.layers.Flatten())\n",
    "\n",
    "    model.add(tf.keras.layers.Dense(400, kernel_regularizer=tf.keras.regularizers.l2(0.01), ))\n",
    "    model.add(tf.keras.layers.Activation(\"relu\"))\n",
    "    model.add(tf.keras.layers.BatchNormalization())\n",
    "    model.add(tf.keras.layers.Dropout(dropout))\n",
    "\n",
    "    model.add(tf.keras.layers.Dense(200,\n",
    "                                    kernel_regularizer=tf.keras.regularizers.l2(0.01), ))\n",
    "    model.add(tf.keras.layers.Activation(\"relu\"))\n",
    "    model.add(tf.keras.layers.BatchNormalization())\n",
    "    model.add(tf.keras.layers.Dropout(dropout))\n",
    "\n",
    "    model.add(tf.keras.layers.Dense(100, kernel_regularizer=tf.keras.regularizers.l2(0.01), ))\n",
    "    model.add(tf.keras.layers.Activation(\"relu\"))\n",
    "    model.add(tf.keras.layers.BatchNormalization())\n",
    "    model.add(tf.keras.layers.Dropout(dropout))\n",
    "\n",
    "    #model.add(tf.keras.layers.Dense(20, kernel_regularizer=tf.keras.regularizers.l2(0.01), ))\n",
    "    #model.add(tf.keras.layers.Activation(\"relu\"))\n",
    "    #model.add(tf.keras.layers.BatchNormalization())\n",
    "    #model.add(tf.keras.layers.Dropout(dropout))\n",
    "\n",
    "    model.add(tf.keras.layers.Dense(1, kernel_regularizer=tf.keras.regularizers.l2(0.01), ))\n",
    "    model.add(tf.keras.layers.Activation(\"relu\"))\n",
    "\n",
    "    sgd = tf.keras.optimizers.SGD(lr=lr, momentum=0.9, decay=1e-6, )\n",
    "    model.compile(optimizer=sgd, loss=PCC_RMSE, metrics=['mse'])\n",
    "\n",
    "    return model"
   ]
  },
  {
   "cell_type": "code",
   "execution_count": 40,
   "metadata": {
    "id": "uhBX_O00oL8S"
   },
   "outputs": [],
   "source": [
    "reshape = [60,169,1]"
   ]
  },
  {
   "cell_type": "code",
   "execution_count": 41,
   "metadata": {
    "id": "chYOmT0zoV04"
   },
   "outputs": [],
   "source": [
    "train_file = \"train_test_validate_set/train.csv\"\n",
    "val_file = \"train_test_validate_set/validate.csv\"\n",
    "test_file = \"train_test_validate_set/test.csv\"\n",
    "path = \"\""
   ]
  },
  {
   "cell_type": "code",
   "execution_count": 42,
   "metadata": {
    "colab": {
     "base_uri": "https://localhost:8080/",
     "height": 35
    },
    "id": "k1VVc8UzpMhB",
    "outputId": "d2100f42-9560-4485-aa46-bd776541722e"
   },
   "outputs": [
    {
     "name": "stderr",
     "output_type": "stream",
     "text": [
      "3243it [39:19,  1.37it/s]\n"
     ]
    }
   ],
   "source": [
    "Xtrain, ytrain = None, []\n",
    "df = pd.read_csv(path + train_file,index_col=0,header = 0,names = None).dropna()\n",
    "for index,row in tqdm(df.iterrows()):\n",
    "  if(index==0):\n",
    "    Xtrain = row.values[1:-2].reshape(1,-1)\n",
    "  else:\n",
    "    Xtrain = np.concatenate((Xtrain,row.values[1:-2].reshape(1,-1)), axis=0)\n",
    "  ytrain = ytrain + [row.values[-1]]\n"
   ]
  },
  {
   "cell_type": "code",
   "execution_count": 43,
   "metadata": {
    "id": "OUMww_a5bK5f"
   },
   "outputs": [
    {
     "name": "stderr",
     "output_type": "stream",
     "text": [
      "1000it [03:36,  4.61it/s]\n",
      "350it [00:21, 16.41it/s]\n"
     ]
    }
   ],
   "source": [
    "Xval, yval = None, []\n",
    "df = pd.read_csv(path + val_file,index_col=0,header = 0,names = None).dropna()\n",
    "# print(df.head())\n",
    "index = 0\n",
    "for _,row in tqdm(df.iterrows()):\n",
    "  if(index==0):\n",
    "    Xval = row.values[1:-2].reshape(1,-1)\n",
    "  else:\n",
    "    Xval = np.concatenate((Xval,row.values[1:-2].reshape(1,-1)), axis=0)\n",
    "  yval = yval + [row.values[-2]]\n",
    "  index = index + 1\n",
    "\n",
    "Xtest, ytest = None, []\n",
    "df = pd.read_csv(path + test_file,index_col=0,header = 0,names = None).dropna()\n",
    "index = 0\n",
    "for _,row in tqdm(df.iterrows()):\n",
    "  if(index==0):\n",
    "    Xtest = row.values[1:-2].reshape(1,-1)\n",
    "  else:\n",
    "    Xtest = np.concatenate((Xtest,row.values[1:-2].reshape(1,-1)), axis=0)\n",
    "  ytest = ytest + [row.values[-2]]\n",
    "  index = index + 1"
   ]
  },
  {
   "cell_type": "code",
   "execution_count": 44,
   "metadata": {
    "colab": {
     "base_uri": "https://localhost:8080/",
     "height": 35
    },
    "id": "mGOdeRupJVWV",
    "outputId": "a2986f01-106f-402b-b1f0-a8d9916070e8"
   },
   "outputs": [
    {
     "data": {
      "text/plain": [
       "StandardScaler()"
      ]
     },
     "execution_count": 44,
     "metadata": {},
     "output_type": "execute_result"
    }
   ],
   "source": [
    "scaler = preprocessing.StandardScaler()\n",
    "X_train_val = np.concatenate((Xtrain, Xval), axis=0)\n",
    "scaler.fit(X_train_val)"
   ]
  },
  {
   "cell_type": "code",
   "execution_count": 45,
   "metadata": {
    "id": "wLRhC6lpJfLb"
   },
   "outputs": [],
   "source": [
    "Xtrain = scaler.transform(Xtrain).reshape(-1, reshape[0],reshape[1],reshape[2])\n",
    "Xval = scaler.transform(Xval).reshape(-1, reshape[0],reshape[1],reshape[2])\n",
    "Xtest = scaler.transform(Xtest).reshape(-1, reshape[0],reshape[1],reshape[2])\n",
    "ytrain = np.array(ytrain).reshape(-1, 1)\n",
    "yval = np.array(yval).reshape(-1, 1)\n",
    "ytest = np.array(ytest).reshape(-1, 1)"
   ]
  },
  {
   "cell_type": "code",
   "execution_count": 46,
   "metadata": {},
   "outputs": [
    {
     "name": "stdout",
     "output_type": "stream",
     "text": [
      "[name: \"/device:CPU:0\"\n",
      "device_type: \"CPU\"\n",
      "memory_limit: 268435456\n",
      "locality {\n",
      "}\n",
      "incarnation: 4618497472360326996\n",
      ", name: \"/device:XLA_CPU:0\"\n",
      "device_type: \"XLA_CPU\"\n",
      "memory_limit: 17179869184\n",
      "locality {\n",
      "}\n",
      "incarnation: 10555126996340919395\n",
      "physical_device_desc: \"device: XLA_CPU device\"\n",
      ", name: \"/device:GPU:0\"\n",
      "device_type: \"GPU\"\n",
      "memory_limit: 10875295488\n",
      "locality {\n",
      "  bus_id: 2\n",
      "  numa_node: 1\n",
      "  links {\n",
      "  }\n",
      "}\n",
      "incarnation: 3220129135513849261\n",
      "physical_device_desc: \"device: 0, name: GeForce GTX 1080 Ti, pci bus id: 0000:86:00.0, compute capability: 6.1\"\n",
      ", name: \"/device:XLA_GPU:0\"\n",
      "device_type: \"XLA_GPU\"\n",
      "memory_limit: 17179869184\n",
      "locality {\n",
      "}\n",
      "incarnation: 8107127574926832468\n",
      "physical_device_desc: \"device: XLA_GPU device\"\n",
      "]\n"
     ]
    }
   ],
   "source": [
    "print(device_lib.list_local_devices()) "
   ]
  },
  {
   "cell_type": "code",
   "execution_count": null,
   "metadata": {
    "id": "53sE-rzoyXEZ"
   },
   "outputs": [],
   "source": [
    "log = []\n",
    "stop = [[0,999.9], ]\n",
    "batch_size = 128\n",
    "epochs = 150\n",
    "global alpha\n",
    "alpha = 0\n",
    "patience = 10\n",
    "path_model = \"models/\"\n",
    "path_log = \"logs/\"\n",
    "model_name = \"model4.h5\"\n",
    "log_name = \"log4.csv\"\n",
    "delta_loss = 0.0001\n",
    "lr = 0.0005\n",
    "dropout = 0\n",
    "maxpool = False\n",
    "model = create_model((reshape[0], reshape[1], reshape[2]),\n",
    "                                 lr=lr, dropout=dropout, maxpool=maxpool)"
   ]
  },
  {
   "cell_type": "code",
   "execution_count": null,
   "metadata": {},
   "outputs": [],
   "source": [
    "# cuda.select_device(0)\n",
    "# cuda.close()"
   ]
  },
  {
   "cell_type": "code",
   "execution_count": null,
   "metadata": {
    "colab": {
     "base_uri": "https://localhost:8080/",
     "height": 1000
    },
    "id": "eNvr1GdzyGwj",
    "outputId": "621fd983-310f-4051-fcd1-165a2fabba12"
   },
   "outputs": [],
   "source": [
    "with open('generation.csv', mode='a') as generation_file:\n",
    "    generation_writer = csv.writer(generation_file, delimiter=',', quotechar='\"', quoting=csv.QUOTE_MINIMAL)\n",
    "    generation_writer.writerow([model_name, log_name, lr, dropout, maxpool, alpha, batch_size])\n",
    "\n",
    "for e in range(1, epochs+1):\n",
    "    model.fit(Xtrain, ytrain, validation_data=(Xval, yval),batch_size=batch_size, epochs=1, verbose=1)\n",
    "\n",
    "    ytrain_pred = model.predict(Xtrain).ravel()\n",
    "    loss = pcc_rmse(ytrain.ravel(), ytrain_pred)\n",
    "    pcc_train = pcc(ytrain.ravel(), ytrain_pred)\n",
    "    rmse_train = rmse(ytrain.ravel(), ytrain_pred)\n",
    "\n",
    "    yval_pred = model.predict(Xval).ravel()\n",
    "    loss_val = pcc_rmse(yval.ravel(), yval_pred)\n",
    "    pcc_val = pcc(yval.ravel(), yval_pred)\n",
    "    rmse_val = rmse(yval.ravel(), yval_pred)\n",
    "\n",
    "    ytest_pred = model.predict(Xtest).ravel()\n",
    "    loss_test = pcc_rmse(ytest.ravel(), ytest_pred)\n",
    "    pcc_test = pcc(ytest.ravel(), ytest_pred)\n",
    "    rmse_test = rmse(ytest.ravel(), ytest_pred)\n",
    "\n",
    "    log.append([e, loss, pcc_train, rmse_train,\n",
    "                    loss_val, pcc_val, rmse_val,\n",
    "                    loss_test, pcc_test, rmse_test])\n",
    "    logs    = pd.DataFrame(log, columns=['epoch', 'loss', 'pcc_train', 'rmse_train',\n",
    "                                             'loss_val', 'pcc_val', 'rmse_val',\n",
    "                                             'loss_test', 'pcc_test', 'rmse_test'])\n",
    "\n",
    "    print(\"EPOCH:%d Loss:%.3f RMSE:%.3f PCC:%.3f LOSS_VAL:%.3f RMSE:%.3f PCC:%.3f LOSS_TEST:%.3f RMSE_TEST:%.3f PCC_TEST:%.3f\"%\n",
    "          (e, loss, rmse_train, pcc_train, loss_val, rmse_val, pcc_val, loss_test, rmse_test, pcc_test ))            \n",
    "\n",
    "    if(stop[-1][1] - loss_val >= delta_loss):\n",
    "        print(\"Model improve from %.3f to %.3f. Save model to %s.\"% (stop[-1][1], loss_val, path_model + model_name))\n",
    "        model.save(path_model + model_name)\n",
    "        stop.append([e, loss_val])\n",
    "    else:\n",
    "        if(e - stop[-1][0] >= patience):\n",
    "            print(\"Get best model at epoch = %d.\" % stop[-1][0])\n",
    "            break\n",
    "            \n",
    "logs.to_csv(path_log + log_name)"
   ]
  },
  {
   "cell_type": "code",
   "execution_count": null,
   "metadata": {
    "id": "iFtkY8X-ezr9"
   },
   "outputs": [],
   "source": []
  }
 ],
 "metadata": {
  "colab": {
   "collapsed_sections": [],
   "name": "Model.ipynb",
   "provenance": []
  },
  "kernelspec": {
   "display_name": "Python 3",
   "language": "python",
   "name": "python3"
  },
  "language_info": {
   "codemirror_mode": {
    "name": "ipython",
    "version": 3
   },
   "file_extension": ".py",
   "mimetype": "text/x-python",
   "name": "python",
   "nbconvert_exporter": "python",
   "pygments_lexer": "ipython3",
   "version": "3.8.3"
  }
 },
 "nbformat": 4,
 "nbformat_minor": 1
}

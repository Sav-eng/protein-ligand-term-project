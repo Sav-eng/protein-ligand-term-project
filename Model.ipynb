{
 "cells": [
  {
   "cell_type": "code",
   "execution_count": 1,
   "metadata": {
    "colab": {
     "base_uri": "https://localhost:8080/",
     "height": 73
    },
    "id": "EcKHByXooe2I",
    "outputId": "407b580a-6200-402c-9aae-9fb9a3d43625"
   },
   "outputs": [],
   "source": [
    "import sys\n",
    "from sklearn import preprocessing, model_selection\n",
    "import tensorflow as tf\n",
    "import pandas as pd\n",
    "import numpy as np\n",
    "import joblib\n",
    "import argparse\n",
    "from argparse import RawTextHelpFormatter, RawDescriptionHelpFormatter\n",
    "import os\n",
    "from scipy import stats\n",
    "from tqdm import tqdm\n",
    "import csv\n",
    "from tensorflow.python.client import device_lib \n",
    "from numba import cuda\n",
    "import gc"
   ]
  },
  {
   "cell_type": "code",
   "execution_count": 2,
   "metadata": {
    "colab": {
     "base_uri": "https://localhost:8080/",
     "height": 35
    },
    "id": "dV2TLY60vQEf",
    "outputId": "83f341a4-3248-4a7d-9bd6-49c6dc035e01"
   },
   "outputs": [],
   "source": [
    "# from google.colab import drive\n",
    "# drive.mount('/content/drive')"
   ]
  },
  {
   "cell_type": "code",
   "execution_count": 3,
   "metadata": {
    "id": "ggdhOwgEmV4J"
   },
   "outputs": [],
   "source": [
    "def rmse(y_true, y_pred):\n",
    "    dev = np.square(y_true.ravel() - y_pred.ravel())\n",
    "    return np.sqrt(np.sum(dev) / y_true.shape[0])\n",
    "\n",
    "\n",
    "def pcc(y_true, y_pred):\n",
    "    p = stats.pearsonr(y_true, y_pred)\n",
    "    return p[0]\n",
    "\n",
    "\n",
    "def pcc_rmse(y_true, y_pred):\n",
    "    global alpha\n",
    "\n",
    "    dev = np.square(y_true.ravel() - y_pred.ravel())\n",
    "    r = np.sqrt(np.sum(dev) / y_true.shape[0])\n",
    "\n",
    "    p = stats.pearsonr(y_true, y_pred)[0]\n",
    "\n",
    "    return (1-p)*alpha + r * (1 - alpha)\n",
    "\n",
    "\n",
    "def PCC_RMSE(y_true, y_pred):\n",
    "    global alpha\n",
    "\n",
    "    fsp = y_pred - tf.keras.backend.mean(y_pred)\n",
    "    fst = y_true - tf.keras.backend.mean(y_true)\n",
    "\n",
    "    devP = tf.keras.backend.std(y_pred)\n",
    "    devT = tf.keras.backend.std(y_true)\n",
    "\n",
    "    r = tf.keras.backend.sqrt(tf.keras.backend.mean(tf.keras.backend.square(y_pred - y_true), axis=-1))\n",
    "\n",
    "    p = 1.0 - tf.keras.backend.mean(fsp * fst) / (devP * devT)\n",
    "\n",
    "    #p = tf.where(tf.is_nan(p), 0.25, p)\n",
    "\n",
    "    return alpha * p + (1 - alpha) * r\n",
    "\n",
    "\n",
    "def RMSE(y_true, y_pred):\n",
    "    return tf.keras.backend.sqrt(tf.keras.backend.mean(tf.keras.backend.square(y_pred - y_true), axis=-1))\n",
    "\n",
    "\n",
    "def PCC(y_true, y_pred):\n",
    "    fsp = y_pred - tf.keras.backend.mean(y_pred)\n",
    "    fst = y_true - tf.keras.backend.mean(y_true)\n",
    "\n",
    "    devP = tf.keras.backend.std(y_pred)\n",
    "    devT = tf.keras.backend.std(y_true)\n",
    "\n",
    "    return tf.keras.backend.mean(fsp * fst) / (devP * devT)"
   ]
  },
  {
   "cell_type": "code",
   "execution_count": 4,
   "metadata": {
    "id": "shMpkycnoIgr"
   },
   "outputs": [],
   "source": [
    "def create_model(input_size, lr=0.0001, maxpool=True, dropout=0.1):\n",
    "    model = tf.keras.Sequential()\n",
    "\n",
    "    model.add(tf.keras.layers.Conv2D(32, kernel_size=4, strides=1,\n",
    "                                     padding=\"valid\", input_shape=input_size))\n",
    "    model.add(tf.keras.layers.Activation(\"relu\"))\n",
    "    if maxpool:\n",
    "        model.add(tf.keras.layers.MaxPooling2D(\n",
    "            pool_size=2,\n",
    "            strides=2,\n",
    "            padding='same',  # Padding method\n",
    "        ))\n",
    "\n",
    "    model.add(tf.keras.layers.Conv2D(64, 4, 1, padding=\"valid\"))\n",
    "    model.add(tf.keras.layers.Activation(\"relu\"))\n",
    "    if maxpool:\n",
    "        model.add(tf.keras.layers.MaxPooling2D(\n",
    "            pool_size=2,\n",
    "            strides=2,\n",
    "            padding='same',  # Padding method\n",
    "        ))\n",
    "\n",
    "    model.add(tf.keras.layers.Conv2D(128, 4, 1, padding=\"valid\"))\n",
    "    model.add(tf.keras.layers.Activation(\"relu\"))\n",
    "    if maxpool:\n",
    "        model.add(tf.keras.layers.MaxPooling2D(\n",
    "            pool_size=2,\n",
    "            strides=2,\n",
    "            padding='same',  # Padding method\n",
    "        ))\n",
    "\n",
    "    model.add(tf.keras.layers.Flatten())\n",
    "\n",
    "    model.add(tf.keras.layers.Dense(400, kernel_regularizer=tf.keras.regularizers.l2(0.01), ))\n",
    "    model.add(tf.keras.layers.Activation(\"relu\"))\n",
    "    model.add(tf.keras.layers.BatchNormalization())\n",
    "    model.add(tf.keras.layers.Dropout(dropout))\n",
    "\n",
    "    model.add(tf.keras.layers.Dense(200,\n",
    "                                    kernel_regularizer=tf.keras.regularizers.l2(0.01), ))\n",
    "    model.add(tf.keras.layers.Activation(\"relu\"))\n",
    "    model.add(tf.keras.layers.BatchNormalization())\n",
    "    model.add(tf.keras.layers.Dropout(dropout))\n",
    "\n",
    "    model.add(tf.keras.layers.Dense(100, kernel_regularizer=tf.keras.regularizers.l2(0.01), ))\n",
    "    model.add(tf.keras.layers.Activation(\"relu\"))\n",
    "    model.add(tf.keras.layers.BatchNormalization())\n",
    "    model.add(tf.keras.layers.Dropout(dropout))\n",
    "\n",
    "    #model.add(tf.keras.layers.Dense(20, kernel_regularizer=tf.keras.regularizers.l2(0.01), ))\n",
    "    #model.add(tf.keras.layers.Activation(\"relu\"))\n",
    "    #model.add(tf.keras.layers.BatchNormalization())\n",
    "    #model.add(tf.keras.layers.Dropout(dropout))\n",
    "\n",
    "    model.add(tf.keras.layers.Dense(1, kernel_regularizer=tf.keras.regularizers.l2(0.01), ))\n",
    "    model.add(tf.keras.layers.Activation(\"relu\"))\n",
    "\n",
    "    sgd = tf.keras.optimizers.SGD(lr=lr, momentum=0.9, decay=1e-6, )\n",
    "    model.compile(optimizer=sgd, loss=PCC_RMSE, metrics=['mse'])\n",
    "\n",
    "    return model"
   ]
  },
  {
   "cell_type": "code",
   "execution_count": 5,
   "metadata": {
    "id": "uhBX_O00oL8S"
   },
   "outputs": [],
   "source": [
    "reshape = [60,169,1]"
   ]
  },
  {
   "cell_type": "code",
   "execution_count": 6,
   "metadata": {
    "id": "chYOmT0zoV04"
   },
   "outputs": [],
   "source": [
    "train_file = \"train_test_validate_set/train.csv\"\n",
    "val_file = \"train_test_validate_set/validate.csv\"\n",
    "test_file = \"train_test_validate_set/test.csv\"\n",
    "path = \"\""
   ]
  },
  {
   "cell_type": "code",
   "execution_count": 7,
   "metadata": {
    "colab": {
     "base_uri": "https://localhost:8080/",
     "height": 35
    },
    "id": "k1VVc8UzpMhB",
    "outputId": "d2100f42-9560-4485-aa46-bd776541722e"
   },
   "outputs": [
    {
     "name": "stderr",
     "output_type": "stream",
     "text": [
      "3243it [36:46,  1.47it/s]\n"
     ]
    }
   ],
   "source": [
    "Xtrain, ytrain = None, []\n",
    "df = pd.read_csv(path + train_file,index_col=0,header = 0,names = None).dropna()\n",
    "for index,row in tqdm(df.iterrows()):\n",
    "  if(index==0):\n",
    "    Xtrain = row.values[1:-2].reshape(1,-1)\n",
    "  else:\n",
    "    Xtrain = np.concatenate((Xtrain,row.values[1:-2].reshape(1,-1)), axis=0)\n",
    "  ytrain = ytrain + [row.values[-1]]\n"
   ]
  },
  {
   "cell_type": "code",
   "execution_count": 8,
   "metadata": {
    "id": "OUMww_a5bK5f"
   },
   "outputs": [
    {
     "name": "stderr",
     "output_type": "stream",
     "text": [
      "1000it [02:52,  5.81it/s]\n",
      "350it [00:19, 17.77it/s]\n"
     ]
    }
   ],
   "source": [
    "Xval, yval = None, []\n",
    "df = pd.read_csv(path + val_file,index_col=0,header = 0,names = None).dropna()\n",
    "# print(df.head())\n",
    "index = 0\n",
    "for _,row in tqdm(df.iterrows()):\n",
    "  if(index==0):\n",
    "    Xval = row.values[1:-2].reshape(1,-1)\n",
    "  else:\n",
    "    Xval = np.concatenate((Xval,row.values[1:-2].reshape(1,-1)), axis=0)\n",
    "  yval = yval + [row.values[-2]]\n",
    "  index = index + 1\n",
    "\n",
    "Xtest, ytest = None, []\n",
    "df = pd.read_csv(path + test_file,index_col=0,header = 0,names = None).dropna()\n",
    "index = 0\n",
    "for _,row in tqdm(df.iterrows()):\n",
    "  if(index==0):\n",
    "    Xtest = row.values[1:-2].reshape(1,-1)\n",
    "  else:\n",
    "    Xtest = np.concatenate((Xtest,row.values[1:-2].reshape(1,-1)), axis=0)\n",
    "  ytest = ytest + [row.values[-2]]\n",
    "  index = index + 1"
   ]
  },
  {
   "cell_type": "code",
   "execution_count": 9,
   "metadata": {
    "colab": {
     "base_uri": "https://localhost:8080/",
     "height": 35
    },
    "id": "mGOdeRupJVWV",
    "outputId": "a2986f01-106f-402b-b1f0-a8d9916070e8"
   },
   "outputs": [
    {
     "data": {
      "text/plain": [
       "StandardScaler()"
      ]
     },
     "execution_count": 9,
     "metadata": {},
     "output_type": "execute_result"
    }
   ],
   "source": [
    "scaler = preprocessing.StandardScaler()\n",
    "X_train_val = np.concatenate((Xtrain, Xval), axis=0)\n",
    "scaler.fit(X_train_val)"
   ]
  },
  {
   "cell_type": "code",
   "execution_count": 10,
   "metadata": {
    "id": "wLRhC6lpJfLb"
   },
   "outputs": [],
   "source": [
    "Xtrain = scaler.transform(Xtrain).reshape(-1, reshape[0],reshape[1],reshape[2])\n",
    "Xval = scaler.transform(Xval).reshape(-1, reshape[0],reshape[1],reshape[2])\n",
    "Xtest = scaler.transform(Xtest).reshape(-1, reshape[0],reshape[1],reshape[2])\n",
    "ytrain = np.array(ytrain).reshape(-1, 1)\n",
    "yval = np.array(yval).reshape(-1, 1)\n",
    "ytest = np.array(ytest).reshape(-1, 1)"
   ]
  },
  {
   "cell_type": "code",
   "execution_count": 11,
   "metadata": {},
   "outputs": [
    {
     "name": "stdout",
     "output_type": "stream",
     "text": [
      "[name: \"/device:CPU:0\"\n",
      "device_type: \"CPU\"\n",
      "memory_limit: 268435456\n",
      "locality {\n",
      "}\n",
      "incarnation: 4533476029235673188\n",
      ", name: \"/device:XLA_CPU:0\"\n",
      "device_type: \"XLA_CPU\"\n",
      "memory_limit: 17179869184\n",
      "locality {\n",
      "}\n",
      "incarnation: 16054186291945188912\n",
      "physical_device_desc: \"device: XLA_CPU device\"\n",
      ", name: \"/device:GPU:0\"\n",
      "device_type: \"GPU\"\n",
      "memory_limit: 10875295488\n",
      "locality {\n",
      "  bus_id: 2\n",
      "  numa_node: 1\n",
      "  links {\n",
      "  }\n",
      "}\n",
      "incarnation: 8762557081286554191\n",
      "physical_device_desc: \"device: 0, name: GeForce GTX 1080 Ti, pci bus id: 0000:86:00.0, compute capability: 6.1\"\n",
      ", name: \"/device:XLA_GPU:0\"\n",
      "device_type: \"XLA_GPU\"\n",
      "memory_limit: 17179869184\n",
      "locality {\n",
      "}\n",
      "incarnation: 14053156051851713456\n",
      "physical_device_desc: \"device: XLA_GPU device\"\n",
      "]\n"
     ]
    }
   ],
   "source": [
    "print(device_lib.list_local_devices()) "
   ]
  },
  {
   "cell_type": "code",
   "execution_count": 12,
   "metadata": {
    "id": "53sE-rzoyXEZ"
   },
   "outputs": [],
   "source": [
    "log = []\n",
    "stop = [[0,999.9], ]\n",
    "batch_size = 128\n",
    "epochs = 150\n",
    "global alpha\n",
    "alpha = 1\n",
    "patience = 10\n",
    "path_model = \"models/\"\n",
    "path_log = \"logs/\"\n",
    "model_name = \"model5.h5\"\n",
    "log_name = \"log5.csv\"\n",
    "delta_loss = 0.0001\n",
    "lr = 0.0005\n",
    "dropout = 0\n",
    "maxpool = False\n",
    "model = create_model((reshape[0], reshape[1], reshape[2]),\n",
    "                                 lr=lr, dropout=dropout, maxpool=maxpool)"
   ]
  },
  {
   "cell_type": "code",
   "execution_count": 13,
   "metadata": {},
   "outputs": [],
   "source": [
    "# cuda.select_device(0)\n",
    "# cuda.close()"
   ]
  },
  {
   "cell_type": "code",
   "execution_count": 14,
   "metadata": {
    "colab": {
     "base_uri": "https://localhost:8080/",
     "height": 1000
    },
    "id": "eNvr1GdzyGwj",
    "outputId": "621fd983-310f-4051-fcd1-165a2fabba12"
   },
   "outputs": [
    {
     "name": "stdout",
     "output_type": "stream",
     "text": [
      "26/26 [==============================] - 8s 304ms/step - loss: 12.5232 - mse: 30.4158 - val_loss: 12.6382 - val_mse: 51.1656\n",
      "EPOCH:1 Loss:0.659 RMSE:6.866 PCC:0.341 LOSS_VAL:0.670 RMSE:7.153 PCC:0.330 LOSS_TEST:0.702 RMSE_TEST:6.998 PCC_TEST:0.298\n",
      "Model improve from 999.900 to 0.670. Save model to models/model5.h5.\n",
      "26/26 [==============================] - 7s 273ms/step - loss: 12.3277 - mse: 27.6924 - val_loss: 12.5061 - val_mse: 50.5812\n",
      "EPOCH:2 Loss:0.633 RMSE:6.820 PCC:0.367 LOSS_VAL:0.597 RMSE:7.112 PCC:0.403 LOSS_TEST:0.595 RMSE_TEST:6.956 PCC_TEST:0.405\n",
      "Model improve from 0.670 to 0.597. Save model to models/model5.h5.\n",
      "26/26 [==============================] - 7s 274ms/step - loss: 12.2078 - mse: 28.0044 - val_loss: 12.3367 - val_mse: 49.8287\n",
      "EPOCH:3 Loss:0.551 RMSE:6.759 PCC:0.449 LOSS_VAL:0.491 RMSE:7.059 PCC:0.509 LOSS_TEST:0.512 RMSE_TEST:6.901 PCC_TEST:0.488\n",
      "Model improve from 0.597 to 0.491. Save model to models/model5.h5.\n",
      "26/26 [==============================] - 7s 274ms/step - loss: 12.1101 - mse: 28.5734 - val_loss: 12.2462 - val_mse: 49.4464\n",
      "EPOCH:4 Loss:0.504 RMSE:6.742 PCC:0.496 LOSS_VAL:0.461 RMSE:7.032 PCC:0.539 LOSS_TEST:0.500 RMSE_TEST:6.873 PCC_TEST:0.500\n",
      "Model improve from 0.491 to 0.461. Save model to models/model5.h5.\n",
      "26/26 [==============================] - 7s 276ms/step - loss: 12.0223 - mse: 28.3199 - val_loss: 12.1630 - val_mse: 48.9849\n",
      "EPOCH:5 Loss:0.443 RMSE:6.713 PCC:0.557 LOSS_VAL:0.440 RMSE:6.999 PCC:0.560 LOSS_TEST:0.446 RMSE_TEST:6.843 PCC_TEST:0.554\n",
      "Model improve from 0.461 to 0.440. Save model to models/model5.h5.\n",
      "26/26 [==============================] - 7s 275ms/step - loss: 11.9351 - mse: 27.9620 - val_loss: 12.0648 - val_mse: 47.8127\n",
      "EPOCH:6 Loss:0.368 RMSE:6.640 PCC:0.632 LOSS_VAL:0.402 RMSE:6.915 PCC:0.598 LOSS_TEST:0.420 RMSE_TEST:6.768 PCC_TEST:0.580\n",
      "Model improve from 0.440 to 0.402. Save model to models/model5.h5.\n",
      "26/26 [==============================] - 7s 275ms/step - loss: 11.8554 - mse: 28.3927 - val_loss: 11.9701 - val_mse: 46.6547\n",
      "EPOCH:7 Loss:0.330 RMSE:6.548 PCC:0.670 LOSS_VAL:0.369 RMSE:6.830 PCC:0.631 LOSS_TEST:0.397 RMSE_TEST:6.685 PCC_TEST:0.603\n",
      "Model improve from 0.402 to 0.369. Save model to models/model5.h5.\n",
      "26/26 [==============================] - 7s 276ms/step - loss: 11.7809 - mse: 28.1537 - val_loss: 11.8901 - val_mse: 45.8490\n",
      "EPOCH:8 Loss:0.314 RMSE:6.499 PCC:0.686 LOSS_VAL:0.347 RMSE:6.771 PCC:0.653 LOSS_TEST:0.389 RMSE_TEST:6.633 PCC_TEST:0.611\n",
      "Model improve from 0.369 to 0.347. Save model to models/model5.h5.\n",
      "26/26 [==============================] - 7s 275ms/step - loss: 11.7095 - mse: 28.2924 - val_loss: 11.7972 - val_mse: 43.9761\n",
      "EPOCH:9 Loss:0.272 RMSE:6.375 PCC:0.728 LOSS_VAL:0.313 RMSE:6.631 PCC:0.687 LOSS_TEST:0.337 RMSE_TEST:6.500 PCC_TEST:0.663\n",
      "Model improve from 0.347 to 0.313. Save model to models/model5.h5.\n",
      "26/26 [==============================] - 7s 275ms/step - loss: 11.6402 - mse: 28.3401 - val_loss: 11.7388 - val_mse: 43.7265\n",
      "EPOCH:10 Loss:0.261 RMSE:6.332 PCC:0.739 LOSS_VAL:0.314 RMSE:6.613 PCC:0.686 LOSS_TEST:0.342 RMSE_TEST:6.483 PCC_TEST:0.658\n",
      "26/26 [==============================] - 7s 275ms/step - loss: 11.5700 - mse: 28.1853 - val_loss: 11.6654 - val_mse: 42.1235\n",
      "EPOCH:11 Loss:0.244 RMSE:6.231 PCC:0.756 LOSS_VAL:0.300 RMSE:6.490 PCC:0.700 LOSS_TEST:0.319 RMSE_TEST:6.359 PCC_TEST:0.681\n",
      "Model improve from 0.313 to 0.300. Save model to models/model5.h5.\n",
      "26/26 [==============================] - 7s 277ms/step - loss: 11.5022 - mse: 28.1244 - val_loss: 11.5874 - val_mse: 40.3193\n",
      "EPOCH:12 Loss:0.190 RMSE:6.094 PCC:0.810 LOSS_VAL:0.281 RMSE:6.350 PCC:0.719 LOSS_TEST:0.294 RMSE_TEST:6.222 PCC_TEST:0.706\n",
      "Model improve from 0.300 to 0.281. Save model to models/model5.h5.\n",
      "26/26 [==============================] - 7s 275ms/step - loss: 11.4398 - mse: 27.9630 - val_loss: 11.5298 - val_mse: 39.1201\n",
      "EPOCH:13 Loss:0.172 RMSE:6.008 PCC:0.828 LOSS_VAL:0.281 RMSE:6.255 PCC:0.719 LOSS_TEST:0.296 RMSE_TEST:6.124 PCC_TEST:0.704\n",
      "Model improve from 0.281 to 0.281. Save model to models/model5.h5.\n",
      "26/26 [==============================] - 7s 276ms/step - loss: 11.3706 - mse: 27.7106 - val_loss: 11.4665 - val_mse: 38.4213\n",
      "EPOCH:14 Loss:0.164 RMSE:5.987 PCC:0.836 LOSS_VAL:0.276 RMSE:6.198 PCC:0.724 LOSS_TEST:0.276 RMSE_TEST:6.076 PCC_TEST:0.724\n",
      "Model improve from 0.281 to 0.276. Save model to models/model5.h5.\n",
      "26/26 [==============================] - 7s 276ms/step - loss: 11.3061 - mse: 28.2375 - val_loss: 11.4094 - val_mse: 38.0110\n",
      "EPOCH:15 Loss:0.157 RMSE:5.904 PCC:0.843 LOSS_VAL:0.278 RMSE:6.165 PCC:0.722 LOSS_TEST:0.297 RMSE_TEST:6.071 PCC_TEST:0.703\n",
      "26/26 [==============================] - 7s 276ms/step - loss: 11.2429 - mse: 27.8480 - val_loss: 11.3470 - val_mse: 37.3593\n",
      "EPOCH:16 Loss:0.145 RMSE:5.883 PCC:0.855 LOSS_VAL:0.272 RMSE:6.112 PCC:0.728 LOSS_TEST:0.273 RMSE_TEST:6.000 PCC_TEST:0.727\n",
      "Model improve from 0.276 to 0.272. Save model to models/model5.h5.\n",
      "26/26 [==============================] - 7s 276ms/step - loss: 11.1782 - mse: 27.4357 - val_loss: 11.2881 - val_mse: 35.6473\n",
      "EPOCH:17 Loss:0.139 RMSE:5.745 PCC:0.861 LOSS_VAL:0.270 RMSE:5.971 PCC:0.730 LOSS_TEST:0.255 RMSE_TEST:5.857 PCC_TEST:0.745\n",
      "Model improve from 0.272 to 0.270. Save model to models/model5.h5.\n",
      "26/26 [==============================] - 7s 276ms/step - loss: 11.1199 - mse: 27.4519 - val_loss: 11.2328 - val_mse: 34.5126\n",
      "EPOCH:18 Loss:0.126 RMSE:5.615 PCC:0.874 LOSS_VAL:0.272 RMSE:5.875 PCC:0.728 LOSS_TEST:0.265 RMSE_TEST:5.749 PCC_TEST:0.735\n",
      "26/26 [==============================] - 7s 277ms/step - loss: 11.0609 - mse: 26.9892 - val_loss: 11.1775 - val_mse: 33.7912\n",
      "EPOCH:19 Loss:0.122 RMSE:5.570 PCC:0.878 LOSS_VAL:0.272 RMSE:5.813 PCC:0.728 LOSS_TEST:0.261 RMSE_TEST:5.681 PCC_TEST:0.739\n",
      "26/26 [==============================] - 7s 276ms/step - loss: 10.9985 - mse: 26.7262 - val_loss: 11.1091 - val_mse: 34.3206\n",
      "EPOCH:20 Loss:0.121 RMSE:5.596 PCC:0.879 LOSS_VAL:0.262 RMSE:5.858 PCC:0.738 LOSS_TEST:0.263 RMSE_TEST:5.733 PCC_TEST:0.737\n",
      "Model improve from 0.270 to 0.262. Save model to models/model5.h5.\n",
      "26/26 [==============================] - 7s 277ms/step - loss: 10.9431 - mse: 26.6366 - val_loss: 11.0553 - val_mse: 34.0321\n",
      "EPOCH:21 Loss:0.117 RMSE:5.586 PCC:0.883 LOSS_VAL:0.265 RMSE:5.834 PCC:0.735 LOSS_TEST:0.257 RMSE_TEST:5.704 PCC_TEST:0.743\n",
      "26/26 [==============================] - 7s 276ms/step - loss: 10.8835 - mse: 26.5503 - val_loss: 10.9995 - val_mse: 33.2324\n",
      "EPOCH:22 Loss:0.116 RMSE:5.537 PCC:0.884 LOSS_VAL:0.264 RMSE:5.765 PCC:0.736 LOSS_TEST:0.252 RMSE_TEST:5.649 PCC_TEST:0.748\n",
      "26/26 [==============================] - 7s 276ms/step - loss: 10.8297 - mse: 26.6731 - val_loss: 10.9439 - val_mse: 32.2271\n",
      "EPOCH:23 Loss:0.114 RMSE:5.432 PCC:0.886 LOSS_VAL:0.264 RMSE:5.677 PCC:0.736 LOSS_TEST:0.257 RMSE_TEST:5.553 PCC_TEST:0.743\n",
      "26/26 [==============================] - 7s 275ms/step - loss: 10.7693 - mse: 26.6387 - val_loss: 10.8886 - val_mse: 31.1495\n",
      "EPOCH:24 Loss:0.108 RMSE:5.361 PCC:0.892 LOSS_VAL:0.262 RMSE:5.581 PCC:0.738 LOSS_TEST:0.249 RMSE_TEST:5.465 PCC_TEST:0.751\n",
      "26/26 [==============================] - 7s 276ms/step - loss: 10.7131 - mse: 26.3623 - val_loss: 10.8332 - val_mse: 31.9541\n",
      "EPOCH:25 Loss:0.113 RMSE:5.389 PCC:0.887 LOSS_VAL:0.263 RMSE:5.653 PCC:0.737 LOSS_TEST:0.262 RMSE_TEST:5.541 PCC_TEST:0.738\n",
      "26/26 [==============================] - 7s 276ms/step - loss: 10.6569 - mse: 26.2744 - val_loss: 10.7816 - val_mse: 31.1399\n",
      "EPOCH:26 Loss:0.109 RMSE:5.331 PCC:0.891 LOSS_VAL:0.265 RMSE:5.580 PCC:0.735 LOSS_TEST:0.244 RMSE_TEST:5.461 PCC_TEST:0.756\n",
      "26/26 [==============================] - 7s 276ms/step - loss: 10.6019 - mse: 26.4103 - val_loss: 10.7275 - val_mse: 29.8287\n",
      "EPOCH:27 Loss:0.105 RMSE:5.198 PCC:0.895 LOSS_VAL:0.266 RMSE:5.462 PCC:0.734 LOSS_TEST:0.249 RMSE_TEST:5.340 PCC_TEST:0.751\n",
      "26/26 [==============================] - 7s 277ms/step - loss: 10.5487 - mse: 26.1097 - val_loss: 10.6733 - val_mse: 30.2872\n",
      "EPOCH:28 Loss:0.107 RMSE:5.259 PCC:0.893 LOSS_VAL:0.266 RMSE:5.503 PCC:0.734 LOSS_TEST:0.246 RMSE_TEST:5.371 PCC_TEST:0.754\n",
      "26/26 [==============================] - 7s 277ms/step - loss: 10.4932 - mse: 26.2055 - val_loss: 10.6149 - val_mse: 30.1666\n",
      "EPOCH:29 Loss:0.105 RMSE:5.252 PCC:0.895 LOSS_VAL:0.262 RMSE:5.492 PCC:0.738 LOSS_TEST:0.241 RMSE_TEST:5.358 PCC_TEST:0.759\n"
     ]
    },
    {
     "name": "stdout",
     "output_type": "stream",
     "text": [
      "26/26 [==============================] - 7s 276ms/step - loss: 10.4368 - mse: 25.9157 - val_loss: 10.5602 - val_mse: 29.4595\n",
      "EPOCH:30 Loss:0.104 RMSE:5.196 PCC:0.896 LOSS_VAL:0.260 RMSE:5.428 PCC:0.740 LOSS_TEST:0.243 RMSE_TEST:5.298 PCC_TEST:0.757\n",
      "Model improve from 0.262 to 0.260. Save model to models/model5.h5.\n",
      "26/26 [==============================] - 7s 278ms/step - loss: 10.3806 - mse: 25.8331 - val_loss: 10.5170 - val_mse: 29.5086\n",
      "EPOCH:31 Loss:0.102 RMSE:5.204 PCC:0.898 LOSS_VAL:0.270 RMSE:5.432 PCC:0.730 LOSS_TEST:0.241 RMSE_TEST:5.307 PCC_TEST:0.759\n",
      "26/26 [==============================] - 7s 276ms/step - loss: 10.3291 - mse: 25.8612 - val_loss: 10.4593 - val_mse: 29.5955\n",
      "EPOCH:32 Loss:0.106 RMSE:5.210 PCC:0.894 LOSS_VAL:0.267 RMSE:5.440 PCC:0.733 LOSS_TEST:0.246 RMSE_TEST:5.322 PCC_TEST:0.754\n",
      "26/26 [==============================] - 7s 277ms/step - loss: 10.2760 - mse: 25.6796 - val_loss: 10.4026 - val_mse: 30.3825\n",
      "EPOCH:33 Loss:0.103 RMSE:5.290 PCC:0.897 LOSS_VAL:0.263 RMSE:5.512 PCC:0.737 LOSS_TEST:0.245 RMSE_TEST:5.394 PCC_TEST:0.755\n",
      "26/26 [==============================] - 7s 276ms/step - loss: 10.2214 - mse: 25.9087 - val_loss: 10.3480 - val_mse: 28.8335\n",
      "EPOCH:34 Loss:0.101 RMSE:5.150 PCC:0.899 LOSS_VAL:0.260 RMSE:5.370 PCC:0.740 LOSS_TEST:0.244 RMSE_TEST:5.252 PCC_TEST:0.756\n",
      "26/26 [==============================] - 7s 277ms/step - loss: 10.1682 - mse: 25.9808 - val_loss: 10.2936 - val_mse: 29.2388\n",
      "EPOCH:35 Loss:0.105 RMSE:5.192 PCC:0.895 LOSS_VAL:0.258 RMSE:5.407 PCC:0.742 LOSS_TEST:0.247 RMSE_TEST:5.287 PCC_TEST:0.753\n",
      "Model improve from 0.260 to 0.258. Save model to models/model5.h5.\n",
      "26/26 [==============================] - 7s 276ms/step - loss: 10.1164 - mse: 25.7606 - val_loss: 10.2430 - val_mse: 29.4129\n",
      "EPOCH:36 Loss:0.102 RMSE:5.165 PCC:0.898 LOSS_VAL:0.260 RMSE:5.423 PCC:0.740 LOSS_TEST:0.250 RMSE_TEST:5.311 PCC_TEST:0.750\n",
      "26/26 [==============================] - 7s 276ms/step - loss: 10.0618 - mse: 25.8214 - val_loss: 10.1953 - val_mse: 30.5378\n",
      "EPOCH:37 Loss:0.103 RMSE:5.256 PCC:0.897 LOSS_VAL:0.265 RMSE:5.526 PCC:0.735 LOSS_TEST:0.250 RMSE_TEST:5.423 PCC_TEST:0.750\n",
      "26/26 [==============================] - 7s 275ms/step - loss: 10.0091 - mse: 25.8119 - val_loss: 10.1425 - val_mse: 29.4640\n",
      "EPOCH:38 Loss:0.100 RMSE:5.146 PCC:0.900 LOSS_VAL:0.262 RMSE:5.428 PCC:0.738 LOSS_TEST:0.248 RMSE_TEST:5.323 PCC_TEST:0.752\n",
      "26/26 [==============================] - 7s 275ms/step - loss: 9.9626 - mse: 25.9069 - val_loss: 10.0844 - val_mse: 28.8476\n",
      "EPOCH:39 Loss:0.097 RMSE:5.118 PCC:0.903 LOSS_VAL:0.256 RMSE:5.371 PCC:0.744 LOSS_TEST:0.245 RMSE_TEST:5.276 PCC_TEST:0.755\n",
      "Model improve from 0.258 to 0.256. Save model to models/model5.h5.\n",
      "26/26 [==============================] - 7s 276ms/step - loss: 9.9061 - mse: 25.8959 - val_loss: 10.0416 - val_mse: 28.3821\n",
      "EPOCH:40 Loss:0.098 RMSE:5.064 PCC:0.902 LOSS_VAL:0.263 RMSE:5.327 PCC:0.737 LOSS_TEST:0.244 RMSE_TEST:5.211 PCC_TEST:0.756\n",
      "26/26 [==============================] - 7s 276ms/step - loss: 9.8545 - mse: 25.8956 - val_loss: 9.9937 - val_mse: 28.9907\n",
      "EPOCH:41 Loss:0.097 RMSE:5.125 PCC:0.903 LOSS_VAL:0.266 RMSE:5.384 PCC:0.734 LOSS_TEST:0.239 RMSE_TEST:5.276 PCC_TEST:0.761\n",
      "26/26 [==============================] - 7s 276ms/step - loss: 9.8075 - mse: 25.8830 - val_loss: 9.9356 - val_mse: 29.9498\n",
      "EPOCH:42 Loss:0.095 RMSE:5.200 PCC:0.905 LOSS_VAL:0.259 RMSE:5.473 PCC:0.741 LOSS_TEST:0.240 RMSE_TEST:5.380 PCC_TEST:0.760\n",
      "26/26 [==============================] - 7s 276ms/step - loss: 9.7523 - mse: 25.8693 - val_loss: 9.8829 - val_mse: 29.4773\n",
      "EPOCH:43 Loss:0.091 RMSE:5.155 PCC:0.909 LOSS_VAL:0.256 RMSE:5.429 PCC:0.744 LOSS_TEST:0.243 RMSE_TEST:5.320 PCC_TEST:0.757\n",
      "26/26 [==============================] - 7s 275ms/step - loss: 9.6989 - mse: 25.7139 - val_loss: 9.8336 - val_mse: 28.7005\n",
      "EPOCH:44 Loss:0.092 RMSE:5.092 PCC:0.908 LOSS_VAL:0.257 RMSE:5.357 PCC:0.743 LOSS_TEST:0.243 RMSE_TEST:5.255 PCC_TEST:0.757\n",
      "26/26 [==============================] - 7s 275ms/step - loss: 9.6500 - mse: 25.6407 - val_loss: 9.7829 - val_mse: 29.6800\n",
      "EPOCH:45 Loss:0.096 RMSE:5.159 PCC:0.904 LOSS_VAL:0.256 RMSE:5.448 PCC:0.744 LOSS_TEST:0.246 RMSE_TEST:5.345 PCC_TEST:0.754\n",
      "26/26 [==============================] - 7s 276ms/step - loss: 9.6010 - mse: 25.5156 - val_loss: 9.7388 - val_mse: 28.8542\n",
      "EPOCH:46 Loss:0.093 RMSE:5.112 PCC:0.907 LOSS_VAL:0.261 RMSE:5.372 PCC:0.739 LOSS_TEST:0.244 RMSE_TEST:5.279 PCC_TEST:0.756\n",
      "26/26 [==============================] - 7s 276ms/step - loss: 9.5498 - mse: 25.4679 - val_loss: 9.6872 - val_mse: 29.1722\n",
      "EPOCH:47 Loss:0.089 RMSE:5.137 PCC:0.911 LOSS_VAL:0.259 RMSE:5.401 PCC:0.741 LOSS_TEST:0.245 RMSE_TEST:5.296 PCC_TEST:0.755\n",
      "26/26 [==============================] - 7s 278ms/step - loss: 9.4990 - mse: 25.4354 - val_loss: 9.6417 - val_mse: 28.6271\n",
      "EPOCH:48 Loss:0.091 RMSE:5.093 PCC:0.909 LOSS_VAL:0.262 RMSE:5.350 PCC:0.738 LOSS_TEST:0.248 RMSE_TEST:5.239 PCC_TEST:0.752\n",
      "26/26 [==============================] - 7s 276ms/step - loss: 9.4507 - mse: 25.5576 - val_loss: 9.5837 - val_mse: 29.4028\n",
      "EPOCH:49 Loss:0.088 RMSE:5.139 PCC:0.912 LOSS_VAL:0.253 RMSE:5.422 PCC:0.747 LOSS_TEST:0.243 RMSE_TEST:5.309 PCC_TEST:0.757\n",
      "Model improve from 0.256 to 0.253. Save model to models/model5.h5.\n",
      "26/26 [==============================] - 7s 277ms/step - loss: 9.4024 - mse: 25.4226 - val_loss: 9.5421 - val_mse: 30.1537\n",
      "EPOCH:50 Loss:0.091 RMSE:5.219 PCC:0.909 LOSS_VAL:0.259 RMSE:5.491 PCC:0.741 LOSS_TEST:0.238 RMSE_TEST:5.374 PCC_TEST:0.762\n",
      "26/26 [==============================] - 7s 276ms/step - loss: 9.3529 - mse: 25.4040 - val_loss: 9.4962 - val_mse: 29.1957\n",
      "EPOCH:51 Loss:0.091 RMSE:5.139 PCC:0.909 LOSS_VAL:0.261 RMSE:5.403 PCC:0.739 LOSS_TEST:0.240 RMSE_TEST:5.297 PCC_TEST:0.760\n",
      "26/26 [==============================] - 7s 276ms/step - loss: 9.3044 - mse: 25.3536 - val_loss: 9.4468 - val_mse: 29.2910\n",
      "EPOCH:52 Loss:0.090 RMSE:5.153 PCC:0.910 LOSS_VAL:0.260 RMSE:5.412 PCC:0.740 LOSS_TEST:0.238 RMSE_TEST:5.322 PCC_TEST:0.762\n",
      "26/26 [==============================] - 7s 275ms/step - loss: 9.2582 - mse: 25.4526 - val_loss: 9.3942 - val_mse: 29.0515\n",
      "EPOCH:53 Loss:0.090 RMSE:5.145 PCC:0.910 LOSS_VAL:0.255 RMSE:5.390 PCC:0.745 LOSS_TEST:0.243 RMSE_TEST:5.290 PCC_TEST:0.757\n",
      "26/26 [==============================] - 7s 276ms/step - loss: 9.2115 - mse: 25.5438 - val_loss: 9.3483 - val_mse: 28.9086\n",
      "EPOCH:54 Loss:0.089 RMSE:5.092 PCC:0.911 LOSS_VAL:0.256 RMSE:5.377 PCC:0.744 LOSS_TEST:0.243 RMSE_TEST:5.278 PCC_TEST:0.757\n",
      "26/26 [==============================] - 7s 276ms/step - loss: 9.1647 - mse: 25.2859 - val_loss: 9.2974 - val_mse: 28.9102\n",
      "EPOCH:55 Loss:0.088 RMSE:5.092 PCC:0.912 LOSS_VAL:0.253 RMSE:5.377 PCC:0.747 LOSS_TEST:0.246 RMSE_TEST:5.280 PCC_TEST:0.754\n",
      "Model improve from 0.253 to 0.253. Save model to models/model5.h5.\n",
      "26/26 [==============================] - 7s 277ms/step - loss: 9.1152 - mse: 25.4251 - val_loss: 9.2561 - val_mse: 29.1050\n",
      "EPOCH:56 Loss:0.087 RMSE:5.106 PCC:0.913 LOSS_VAL:0.258 RMSE:5.395 PCC:0.742 LOSS_TEST:0.242 RMSE_TEST:5.296 PCC_TEST:0.758\n",
      "26/26 [==============================] - 7s 277ms/step - loss: 9.0679 - mse: 25.5612 - val_loss: 9.2115 - val_mse: 28.2143\n",
      "EPOCH:57 Loss:0.089 RMSE:5.045 PCC:0.911 LOSS_VAL:0.260 RMSE:5.312 PCC:0.740 LOSS_TEST:0.249 RMSE_TEST:5.227 PCC_TEST:0.751\n",
      "26/26 [==============================] - 7s 277ms/step - loss: 9.0237 - mse: 25.7520 - val_loss: 9.1611 - val_mse: 28.8863\n",
      "EPOCH:58 Loss:0.087 RMSE:5.105 PCC:0.913 LOSS_VAL:0.256 RMSE:5.375 PCC:0.744 LOSS_TEST:0.240 RMSE_TEST:5.276 PCC_TEST:0.760\n",
      "26/26 [==============================] - 7s 277ms/step - loss: 8.9748 - mse: 25.5052 - val_loss: 9.1209 - val_mse: 28.9812\n",
      "EPOCH:59 Loss:0.088 RMSE:5.108 PCC:0.912 LOSS_VAL:0.262 RMSE:5.383 PCC:0.738 LOSS_TEST:0.244 RMSE_TEST:5.286 PCC_TEST:0.756\n",
      "26/26 [==============================] - 7s 277ms/step - loss: 8.9279 - mse: 25.4707 - val_loss: 9.0708 - val_mse: 29.1891\n",
      "EPOCH:60 Loss:0.086 RMSE:5.121 PCC:0.914 LOSS_VAL:0.258 RMSE:5.403 PCC:0.742 LOSS_TEST:0.245 RMSE_TEST:5.307 PCC_TEST:0.755\n",
      "26/26 [==============================] - 7s 276ms/step - loss: 8.8838 - mse: 25.5253 - val_loss: 9.0262 - val_mse: 29.5307\n",
      "EPOCH:61 Loss:0.088 RMSE:5.133 PCC:0.912 LOSS_VAL:0.259 RMSE:5.434 PCC:0.741 LOSS_TEST:0.243 RMSE_TEST:5.344 PCC_TEST:0.757\n"
     ]
    },
    {
     "name": "stdout",
     "output_type": "stream",
     "text": [
      "26/26 [==============================] - 7s 277ms/step - loss: 8.8380 - mse: 25.3062 - val_loss: 8.9821 - val_mse: 29.3210\n",
      "EPOCH:62 Loss:0.088 RMSE:5.139 PCC:0.912 LOSS_VAL:0.261 RMSE:5.415 PCC:0.739 LOSS_TEST:0.248 RMSE_TEST:5.322 PCC_TEST:0.752\n",
      "26/26 [==============================] - 7s 276ms/step - loss: 8.7927 - mse: 25.3701 - val_loss: 8.9317 - val_mse: 29.9052\n",
      "EPOCH:63 Loss:0.086 RMSE:5.177 PCC:0.914 LOSS_VAL:0.255 RMSE:5.469 PCC:0.745 LOSS_TEST:0.244 RMSE_TEST:5.354 PCC_TEST:0.756\n",
      "26/26 [==============================] - 7s 276ms/step - loss: 8.7477 - mse: 25.2595 - val_loss: 8.8870 - val_mse: 28.6736\n",
      "EPOCH:64 Loss:0.086 RMSE:5.088 PCC:0.914 LOSS_VAL:0.256 RMSE:5.355 PCC:0.744 LOSS_TEST:0.247 RMSE_TEST:5.252 PCC_TEST:0.753\n",
      "26/26 [==============================] - 7s 276ms/step - loss: 8.7004 - mse: 25.5058 - val_loss: 8.8405 - val_mse: 29.8929\n",
      "EPOCH:65 Loss:0.088 RMSE:5.190 PCC:0.912 LOSS_VAL:0.254 RMSE:5.467 PCC:0.746 LOSS_TEST:0.245 RMSE_TEST:5.360 PCC_TEST:0.755\n",
      "Get best model at epoch = 55.\n"
     ]
    }
   ],
   "source": [
    "with open('generation.csv', mode='a') as generation_file:\n",
    "    generation_writer = csv.writer(generation_file, delimiter=',', quotechar='\"', quoting=csv.QUOTE_MINIMAL)\n",
    "    generation_writer.writerow([model_name, log_name, lr, dropout, maxpool, alpha, batch_size])\n",
    "\n",
    "for e in range(1, epochs+1):\n",
    "    model.fit(Xtrain, ytrain, validation_data=(Xval, yval),batch_size=batch_size, epochs=1, verbose=1)\n",
    "\n",
    "    ytrain_pred = model.predict(Xtrain).ravel()\n",
    "    loss = pcc_rmse(ytrain.ravel(), ytrain_pred)\n",
    "    pcc_train = pcc(ytrain.ravel(), ytrain_pred)\n",
    "    rmse_train = rmse(ytrain.ravel(), ytrain_pred)\n",
    "\n",
    "    yval_pred = model.predict(Xval).ravel()\n",
    "    loss_val = pcc_rmse(yval.ravel(), yval_pred)\n",
    "    pcc_val = pcc(yval.ravel(), yval_pred)\n",
    "    rmse_val = rmse(yval.ravel(), yval_pred)\n",
    "\n",
    "    ytest_pred = model.predict(Xtest).ravel()\n",
    "    loss_test = pcc_rmse(ytest.ravel(), ytest_pred)\n",
    "    pcc_test = pcc(ytest.ravel(), ytest_pred)\n",
    "    rmse_test = rmse(ytest.ravel(), ytest_pred)\n",
    "\n",
    "    log.append([e, loss, pcc_train, rmse_train,\n",
    "                    loss_val, pcc_val, rmse_val,\n",
    "                    loss_test, pcc_test, rmse_test])\n",
    "    logs    = pd.DataFrame(log, columns=['epoch', 'loss', 'pcc_train', 'rmse_train',\n",
    "                                             'loss_val', 'pcc_val', 'rmse_val',\n",
    "                                             'loss_test', 'pcc_test', 'rmse_test'])\n",
    "\n",
    "    print(\"EPOCH:%d Loss:%.3f RMSE:%.3f PCC:%.3f LOSS_VAL:%.3f RMSE:%.3f PCC:%.3f LOSS_TEST:%.3f RMSE_TEST:%.3f PCC_TEST:%.3f\"%\n",
    "          (e, loss, rmse_train, pcc_train, loss_val, rmse_val, pcc_val, loss_test, rmse_test, pcc_test ))            \n",
    "\n",
    "    if(stop[-1][1] - loss_val >= delta_loss):\n",
    "        print(\"Model improve from %.3f to %.3f. Save model to %s.\"% (stop[-1][1], loss_val, path_model + model_name))\n",
    "        model.save(path_model + model_name)\n",
    "        stop.append([e, loss_val])\n",
    "    else:\n",
    "        if(e - stop[-1][0] >= patience):\n",
    "            print(\"Get best model at epoch = %d.\" % stop[-1][0])\n",
    "            break\n",
    "            \n",
    "logs.to_csv(path_log + log_name)"
   ]
  },
  {
   "cell_type": "code",
   "execution_count": null,
   "metadata": {
    "id": "iFtkY8X-ezr9"
   },
   "outputs": [],
   "source": []
  }
 ],
 "metadata": {
  "colab": {
   "collapsed_sections": [],
   "name": "Model.ipynb",
   "provenance": []
  },
  "kernelspec": {
   "display_name": "Python 3",
   "language": "python",
   "name": "python3"
  },
  "language_info": {
   "codemirror_mode": {
    "name": "ipython",
    "version": 3
   },
   "file_extension": ".py",
   "mimetype": "text/x-python",
   "name": "python",
   "nbconvert_exporter": "python",
   "pygments_lexer": "ipython3",
   "version": "3.8.3"
  }
 },
 "nbformat": 4,
 "nbformat_minor": 1
}

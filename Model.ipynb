{
  "nbformat": 4,
  "nbformat_minor": 0,
  "metadata": {
    "colab": {
      "name": "Model.ipynb",
      "provenance": [],
      "collapsed_sections": []
    },
    "kernelspec": {
      "name": "python3",
      "display_name": "Python 3"
    }
  },
  "cells": [
    {
      "cell_type": "code",
      "metadata": {
        "id": "EcKHByXooe2I",
        "outputId": "407b580a-6200-402c-9aae-9fb9a3d43625",
        "colab": {
          "base_uri": "https://localhost:8080/",
          "height": 73
        }
      },
      "source": [
        "import sys\n",
        "from sklearn import preprocessing, model_selection\n",
        "import tensorflow as tf\n",
        "import pandas as pd\n",
        "import numpy as np\n",
        "from sklearn.externals import joblib\n",
        "import argparse\n",
        "from argparse import RawTextHelpFormatter, RawDescriptionHelpFormatter\n",
        "import os\n",
        "from scipy import stats\n",
        "from tqdm import tqdm"
      ],
      "execution_count": null,
      "outputs": [
        {
          "output_type": "stream",
          "text": [
            "/usr/local/lib/python3.6/dist-packages/sklearn/externals/joblib/__init__.py:15: FutureWarning: sklearn.externals.joblib is deprecated in 0.21 and will be removed in 0.23. Please import this functionality directly from joblib, which can be installed with: pip install joblib. If this warning is raised when loading pickled models, you may need to re-serialize those models with scikit-learn 0.21+.\n",
            "  warnings.warn(msg, category=FutureWarning)\n"
          ],
          "name": "stderr"
        }
      ]
    },
    {
      "cell_type": "code",
      "metadata": {
        "id": "dV2TLY60vQEf",
        "outputId": "83f341a4-3248-4a7d-9bd6-49c6dc035e01",
        "colab": {
          "base_uri": "https://localhost:8080/",
          "height": 35
        }
      },
      "source": [
        "from google.colab import drive\n",
        "drive.mount('/content/drive')"
      ],
      "execution_count": null,
      "outputs": [
        {
          "output_type": "stream",
          "text": [
            "Mounted at /content/drive\n"
          ],
          "name": "stdout"
        }
      ]
    },
    {
      "cell_type": "code",
      "metadata": {
        "id": "ggdhOwgEmV4J"
      },
      "source": [
        "def rmse(y_true, y_pred):\n",
        "    dev = np.square(y_true.ravel() - y_pred.ravel())\n",
        "    return np.sqrt(np.sum(dev) / y_true.shape[0])\n",
        "\n",
        "\n",
        "def pcc(y_true, y_pred):\n",
        "    p = stats.pearsonr(y_true, y_pred)\n",
        "    return p[0]\n",
        "\n",
        "\n",
        "def pcc_rmse(y_true, y_pred):\n",
        "    global alpha\n",
        "\n",
        "    dev = np.square(y_true.ravel() - y_pred.ravel())\n",
        "    r = np.sqrt(np.sum(dev) / y_true.shape[0])\n",
        "\n",
        "    p = stats.pearsonr(y_true, y_pred)[0]\n",
        "\n",
        "    return (1-p)*alpha + r * (1 - alpha)\n",
        "\n",
        "\n",
        "def PCC_RMSE(y_true, y_pred):\n",
        "    global alpha\n",
        "\n",
        "    fsp = y_pred - tf.keras.backend.mean(y_pred)\n",
        "    fst = y_true - tf.keras.backend.mean(y_true)\n",
        "\n",
        "    devP = tf.keras.backend.std(y_pred)\n",
        "    devT = tf.keras.backend.std(y_true)\n",
        "\n",
        "    r = tf.keras.backend.sqrt(tf.keras.backend.mean(tf.keras.backend.square(y_pred - y_true), axis=-1))\n",
        "\n",
        "    p = 1.0 - tf.keras.backend.mean(fsp * fst) / (devP * devT)\n",
        "\n",
        "    #p = tf.where(tf.is_nan(p), 0.25, p)\n",
        "\n",
        "    return alpha * p + (1 - alpha) * r\n",
        "\n",
        "\n",
        "def RMSE(y_true, y_pred):\n",
        "    return tf.keras.backend.sqrt(tf.keras.backend.mean(tf.keras.backend.square(y_pred - y_true), axis=-1))\n",
        "\n",
        "\n",
        "def PCC(y_true, y_pred):\n",
        "    fsp = y_pred - tf.keras.backend.mean(y_pred)\n",
        "    fst = y_true - tf.keras.backend.mean(y_true)\n",
        "\n",
        "    devP = tf.keras.backend.std(y_pred)\n",
        "    devT = tf.keras.backend.std(y_true)\n",
        "\n",
        "    return tf.keras.backend.mean(fsp * fst) / (devP * devT)"
      ],
      "execution_count": null,
      "outputs": []
    },
    {
      "cell_type": "code",
      "metadata": {
        "id": "shMpkycnoIgr"
      },
      "source": [
        "def create_model(input_size, lr=0.0001, maxpool=True, dropout=0.1):\n",
        "    model = tf.keras.Sequential()\n",
        "\n",
        "    model.add(tf.keras.layers.Conv2D(32, kernel_size=4, strides=1,\n",
        "                                     padding=\"valid\", input_shape=input_size))\n",
        "    model.add(tf.keras.layers.Activation(\"relu\"))\n",
        "    if maxpool:\n",
        "        model.add(tf.keras.layers.MaxPooling2D(\n",
        "            pool_size=2,\n",
        "            strides=2,\n",
        "            padding='same',  # Padding method\n",
        "        ))\n",
        "\n",
        "    model.add(tf.keras.layers.Conv2D(64, 4, 1, padding=\"valid\"))\n",
        "    model.add(tf.keras.layers.Activation(\"relu\"))\n",
        "    if maxpool:\n",
        "        model.add(tf.keras.layers.MaxPooling2D(\n",
        "            pool_size=2,\n",
        "            strides=2,\n",
        "            padding='same',  # Padding method\n",
        "        ))\n",
        "\n",
        "    model.add(tf.keras.layers.Conv2D(128, 4, 1, padding=\"valid\"))\n",
        "    model.add(tf.keras.layers.Activation(\"relu\"))\n",
        "    if maxpool:\n",
        "        model.add(tf.keras.layers.MaxPooling2D(\n",
        "            pool_size=2,\n",
        "            strides=2,\n",
        "            padding='same',  # Padding method\n",
        "        ))\n",
        "\n",
        "    model.add(tf.keras.layers.Flatten())\n",
        "\n",
        "    model.add(tf.keras.layers.Dense(400, kernel_regularizer=tf.keras.regularizers.l2(0.01), ))\n",
        "    model.add(tf.keras.layers.Activation(\"relu\"))\n",
        "    model.add(tf.keras.layers.BatchNormalization())\n",
        "    model.add(tf.keras.layers.Dropout(dropout))\n",
        "\n",
        "    model.add(tf.keras.layers.Dense(200,\n",
        "                                    kernel_regularizer=tf.keras.regularizers.l2(0.01), ))\n",
        "    model.add(tf.keras.layers.Activation(\"relu\"))\n",
        "    model.add(tf.keras.layers.BatchNormalization())\n",
        "    model.add(tf.keras.layers.Dropout(dropout))\n",
        "\n",
        "    model.add(tf.keras.layers.Dense(100, kernel_regularizer=tf.keras.regularizers.l2(0.01), ))\n",
        "    model.add(tf.keras.layers.Activation(\"relu\"))\n",
        "    model.add(tf.keras.layers.BatchNormalization())\n",
        "    model.add(tf.keras.layers.Dropout(dropout))\n",
        "\n",
        "    #model.add(tf.keras.layers.Dense(20, kernel_regularizer=tf.keras.regularizers.l2(0.01), ))\n",
        "    #model.add(tf.keras.layers.Activation(\"relu\"))\n",
        "    #model.add(tf.keras.layers.BatchNormalization())\n",
        "    #model.add(tf.keras.layers.Dropout(dropout))\n",
        "\n",
        "    model.add(tf.keras.layers.Dense(1, kernel_regularizer=tf.keras.regularizers.l2(0.01), ))\n",
        "    model.add(tf.keras.layers.Activation(\"relu\"))\n",
        "\n",
        "    sgd = tf.keras.optimizers.SGD(lr=lr, momentum=0.9, decay=1e-6, )\n",
        "    model.compile(optimizer=sgd, loss=PCC_RMSE, metrics=['mse'])\n",
        "\n",
        "    return model"
      ],
      "execution_count": null,
      "outputs": []
    },
    {
      "cell_type": "code",
      "metadata": {
        "id": "uhBX_O00oL8S"
      },
      "source": [
        "reshape = [60,169,1]"
      ],
      "execution_count": null,
      "outputs": []
    },
    {
      "cell_type": "code",
      "metadata": {
        "id": "chYOmT0zoV04"
      },
      "source": [
        "train_file = \"train_test_validate_set/train.csv\"\n",
        "val_file = \"train_test_validate_set/validate.csv\"\n",
        "test_file = \"train_test_validate_set/test.csv\"\n",
        "path = \"/content/drive/Shared drives/Bioinformatics/Term Project/\""
      ],
      "execution_count": null,
      "outputs": []
    },
    {
      "cell_type": "code",
      "metadata": {
        "id": "k1VVc8UzpMhB",
        "outputId": "d2100f42-9560-4485-aa46-bd776541722e",
        "colab": {
          "base_uri": "https://localhost:8080/",
          "height": 35
        }
      },
      "source": [
        "Xtrain, ytrain = None, []\n",
        "df = pd.read_csv(path + train_file,index_col=0,header = 0,names = None).dropna()\n",
        "df = df[0:3000]\n",
        "for index,row in tqdm(df.iterrows()):\n",
        "  if(index==0):\n",
        "    Xtrain = row.values[1:-2].reshape(1,-1)\n",
        "  else:\n",
        "    Xtrain = np.concatenate((Xtrain,row.values[1:-2].reshape(1,-1)), axis=0)\n",
        "  ytrain = ytrain + [row.values[-1]]\n"
      ],
      "execution_count": null,
      "outputs": [
        {
          "output_type": "stream",
          "text": [
            "1599it [08:24,  1.61it/s]"
          ],
          "name": "stderr"
        }
      ]
    },
    {
      "cell_type": "code",
      "metadata": {
        "id": "OUMww_a5bK5f"
      },
      "source": [
        "Xval, yval = None, []\n",
        "df = pd.read_csv(path + val_file,index_col=0,header = 0,names = None).dropna()\n",
        "# print(df.head())\n",
        "index = 0\n",
        "for _,row in tqdm(df.iterrows()):\n",
        "  if(index==0):\n",
        "    Xval = row.values[1:-2].reshape(1,-1)\n",
        "  else:\n",
        "    Xval = np.concatenate((Xval,row.values[1:-2].reshape(1,-1)), axis=0)\n",
        "  yval = yval + [row.values[-2]]\n",
        "  index = index + 1\n",
        "\n",
        "Xtest, ytest = None, []\n",
        "df = pd.read_csv(path + test_file,index_col=0,header = 0,names = None).dropna()\n",
        "index = 0\n",
        "for _,row in tqdm(df.iterrows()):\n",
        "  if(index==0):\n",
        "    Xtest = row.values[1:-2].reshape(1,-1)\n",
        "  else:\n",
        "    Xtest = np.concatenate((Xtest,row.values[1:-2].reshape(1,-1)), axis=0)\n",
        "  ytest = ytest + [row.values[-2]]\n",
        "  index = index + 1"
      ],
      "execution_count": null,
      "outputs": []
    },
    {
      "cell_type": "code",
      "metadata": {
        "id": "mGOdeRupJVWV",
        "outputId": "a2986f01-106f-402b-b1f0-a8d9916070e8",
        "colab": {
          "base_uri": "https://localhost:8080/",
          "height": 35
        }
      },
      "source": [
        "scaler = preprocessing.StandardScaler()\n",
        "X_train_val = np.concatenate((Xtrain, Xval), axis=0)\n",
        "scaler.fit(X_train_val)"
      ],
      "execution_count": null,
      "outputs": [
        {
          "output_type": "execute_result",
          "data": {
            "text/plain": [
              "StandardScaler(copy=True, with_mean=True, with_std=True)"
            ]
          },
          "metadata": {
            "tags": []
          },
          "execution_count": 26
        }
      ]
    },
    {
      "cell_type": "code",
      "metadata": {
        "id": "wLRhC6lpJfLb"
      },
      "source": [
        "Xtrain = scaler.transform(Xtrain).reshape(-1, reshape[0],reshape[1],reshape[2])\n",
        "Xval = scaler.transform(Xval).reshape(-1, reshape[0],reshape[1],reshape[2])\n",
        "Xtest = scaler.transform(Xtest).reshape(-1, reshape[0],reshape[1],reshape[2])\n",
        "ytrain = np.array(ytrain).reshape(-1, 1)\n",
        "yval = np.array(yval).reshape(-1, 1)\n",
        "ytest = np.array(ytest).reshape(-1, 1)"
      ],
      "execution_count": null,
      "outputs": []
    },
    {
      "cell_type": "code",
      "metadata": {
        "id": "53sE-rzoyXEZ"
      },
      "source": [
        "log = []\n",
        "stop = [[0,999.9], ]\n",
        "batch_size = 128\n",
        "epochs = 100\n",
        "global alpha\n",
        "alpha = 0.8\n",
        "patience = 5\n",
        "model_name = \"model3.h5\"\n",
        "delta_loss = 0.001\n",
        "lr = 0.001\n",
        "dropout = 0.1\n",
        "maxpool = False\n",
        "model = create_model((reshape[0], reshape[1], reshape[2]),\n",
        "                                 lr=lr, dropout=dropout, maxpool=maxpool)"
      ],
      "execution_count": null,
      "outputs": []
    },
    {
      "cell_type": "code",
      "metadata": {
        "id": "eNvr1GdzyGwj",
        "outputId": "621fd983-310f-4051-fcd1-165a2fabba12",
        "colab": {
          "base_uri": "https://localhost:8080/",
          "height": 1000
        }
      },
      "source": [
        "for e in range(1, epochs+1):\n",
        "            model.fit(Xtrain, ytrain, validation_data=(Xval, yval),batch_size=batch_size, epochs=1, verbose=1)\n",
        "\n",
        "            ytrain_pred = model.predict(Xtrain).ravel()\n",
        "            loss = pcc_rmse(ytrain.ravel(), ytrain_pred)\n",
        "            pcc_train = pcc(ytrain.ravel(), ytrain_pred)\n",
        "            rmse_train = rmse(ytrain.ravel(), ytrain_pred)\n",
        "\n",
        "            yval_pred = model.predict(Xval).ravel()\n",
        "            loss_val = pcc_rmse(yval.ravel(), yval_pred)\n",
        "            pcc_val = pcc(yval.ravel(), yval_pred)\n",
        "            rmse_val = rmse(yval.ravel(), yval_pred)\n",
        "\n",
        "            ytest_pred = model.predict(Xtest).ravel()\n",
        "            loss_test = pcc_rmse(ytest.ravel(), ytest_pred)\n",
        "            pcc_test = pcc(ytest.ravel(), ytest_pred)\n",
        "            rmse_test = rmse(ytest.ravel(), ytest_pred)\n",
        "\n",
        "            log.append([e, loss, pcc_train, rmse_train,\n",
        "                            loss_val, pcc_val, rmse_val,\n",
        "                            loss_test, pcc_test, rmse_test])\n",
        "            logs    = pd.DataFrame(log, columns=['epoch', 'loss', 'pcc_train', 'rmse_train',\n",
        "                                                     'loss_val', 'pcc_val', 'rmse_val',\n",
        "                                                     'loss_test', 'pcc_test', 'rmse_test'])\n",
        "\n",
        "            print(\"EPOCH:%d Loss:%.3f RMSE:%.3f PCC:%.3f LOSS_VAL:%.3f RMSE:%.3f PCC:%.3f LOSS_TEST:%.3f RMSE_TEST:%.3f PCC_TEST:%.3f\"%\n",
        "                  (e, loss, rmse_train, pcc_train, loss_val, rmse_val, pcc_val, loss_test, rmse_test, pcc_test ))            \n",
        "\n",
        "            if(stop[-1][1] - loss_val >= delta_loss):\n",
        "                print(\"Model improve from %.3f to %.3f. Save model to %s.\"% (stop[-1][1], loss_val, path + model_name))\n",
        "                model.save(path + model_name)\n",
        "                stop.append([e, loss_val])\n",
        "            else:\n",
        "                if(e - stop[-1][0] >= patience):\n",
        "                    print(\"Get best model at epoch = %d.\" % stop[-1][0])\n",
        "                    break"
      ],
      "execution_count": null,
      "outputs": [
        {
          "output_type": "stream",
          "text": [
            "24/24 [==============================] - 71s 3s/step - loss: 16.5256 - mse: 30.1428 - val_loss: 18.0736 - val_mse: 45.1259\n",
            "EPOCH:1 Loss:6.534 RMSE:6.589 PCC:-0.059 LOSS_VAL:6.661 RMSE:6.718 PCC:-0.104 LOSS_TEST:6.723 RMSE_TEST:6.779 PCC_TEST:-0.143\n",
            "Model improve from 999.900 to 6.661. Save model to /content/drive/Shared drives/Bioinformatics/Term Project/train_test_validate_set/model2.h5.\n",
            "24/24 [==============================] - 73s 3s/step - loss: 15.2790 - mse: 21.1968 - val_loss: 17.5939 - val_mse: 40.4254\n",
            "EPOCH:2 Loss:6.137 RMSE:6.190 PCC:0.042 LOSS_VAL:6.304 RMSE:6.358 PCC:0.036 LOSS_TEST:6.402 RMSE_TEST:6.456 PCC_TEST:0.033\n",
            "Model improve from 6.661 to 6.304. Save model to /content/drive/Shared drives/Bioinformatics/Term Project/train_test_validate_set/model2.h5.\n",
            "24/24 [==============================] - 74s 3s/step - loss: 14.7733 - mse: 17.9341 - val_loss: 16.8931 - val_mse: 33.6413\n",
            "EPOCH:3 Loss:5.517 RMSE:5.563 PCC:0.078 LOSS_VAL:5.751 RMSE:5.800 PCC:0.092 LOSS_TEST:5.856 RMSE_TEST:5.907 PCC_TEST:0.111\n",
            "Model improve from 6.304 to 5.751. Save model to /content/drive/Shared drives/Bioinformatics/Term Project/train_test_validate_set/model2.h5.\n",
            "24/24 [==============================] - 73s 3s/step - loss: 14.4220 - mse: 15.8763 - val_loss: 16.1056 - val_mse: 26.8663\n",
            "EPOCH:4 Loss:4.872 RMSE:4.913 PCC:0.115 LOSS_VAL:5.140 RMSE:5.183 PCC:0.140 LOSS_TEST:5.277 RMSE_TEST:5.322 PCC_TEST:0.171\n",
            "Model improve from 5.751 to 5.140. Save model to /content/drive/Shared drives/Bioinformatics/Term Project/train_test_validate_set/model2.h5.\n",
            "24/24 [==============================] - 74s 3s/step - loss: 14.1088 - mse: 13.9886 - val_loss: 15.2216 - val_mse: 20.3481\n",
            "EPOCH:5 Loss:4.195 RMSE:4.229 PCC:0.127 LOSS_VAL:4.474 RMSE:4.511 PCC:0.162 LOSS_TEST:4.649 RMSE_TEST:4.688 PCC_TEST:0.189\n",
            "Model improve from 5.140 to 4.474. Save model to /content/drive/Shared drives/Bioinformatics/Term Project/train_test_validate_set/model2.h5.\n",
            "24/24 [==============================] - 73s 3s/step - loss: 13.8176 - mse: 12.6331 - val_loss: 14.3881 - val_mse: 14.9939\n",
            "EPOCH:6 Loss:3.581 RMSE:3.609 PCC:0.117 LOSS_VAL:3.842 RMSE:3.872 PCC:0.160 LOSS_TEST:4.000 RMSE_TEST:4.032 PCC_TEST:0.197\n",
            "Model improve from 4.474 to 3.842. Save model to /content/drive/Shared drives/Bioinformatics/Term Project/train_test_validate_set/model2.h5.\n",
            "24/24 [==============================] - 75s 3s/step - loss: 13.5665 - mse: 11.6215 - val_loss: 13.7112 - val_mse: 10.9924\n",
            "EPOCH:7 Loss:3.099 RMSE:3.122 PCC:0.135 LOSS_VAL:3.291 RMSE:3.315 PCC:0.175 LOSS_TEST:3.423 RMSE_TEST:3.449 PCC_TEST:0.213\n",
            "Model improve from 3.842 to 3.291. Save model to /content/drive/Shared drives/Bioinformatics/Term Project/train_test_validate_set/model2.h5.\n",
            "24/24 [==============================] - 73s 3s/step - loss: 13.3609 - mse: 10.8068 - val_loss: 13.3831 - val_mse: 9.5871\n",
            "EPOCH:8 Loss:2.892 RMSE:2.913 PCC:0.139 LOSS_VAL:3.074 RMSE:3.096 PCC:0.177 LOSS_TEST:3.194 RMSE_TEST:3.218 PCC_TEST:0.216\n",
            "Model improve from 3.291 to 3.074. Save model to /content/drive/Shared drives/Bioinformatics/Term Project/train_test_validate_set/model2.h5.\n",
            "24/24 [==============================] - 74s 3s/step - loss: 13.1606 - mse: 10.1045 - val_loss: 12.8972 - val_mse: 7.2906\n",
            "EPOCH:9 Loss:2.561 RMSE:2.579 PCC:0.156 LOSS_VAL:2.681 RMSE:2.700 PCC:0.173 LOSS_TEST:2.812 RMSE_TEST:2.832 PCC_TEST:0.194\n",
            "Model improve from 3.074 to 2.681. Save model to /content/drive/Shared drives/Bioinformatics/Term Project/train_test_validate_set/model2.h5.\n",
            "24/24 [==============================] - 78s 3s/step - loss: 12.9107 - mse: 9.1451 - val_loss: 12.7431 - val_mse: 7.1232\n",
            "EPOCH:10 Loss:2.529 RMSE:2.546 PCC:0.163 LOSS_VAL:2.651 RMSE:2.669 PCC:0.171 LOSS_TEST:2.772 RMSE_TEST:2.792 PCC_TEST:0.192\n",
            "Model improve from 2.681 to 2.651. Save model to /content/drive/Shared drives/Bioinformatics/Term Project/train_test_validate_set/model2.h5.\n",
            "24/24 [==============================] - 74s 3s/step - loss: 12.8629 - mse: 9.1910 - val_loss: 12.4859 - val_mse: 5.9792\n",
            "EPOCH:11 Loss:2.335 RMSE:2.350 PCC:0.156 LOSS_VAL:2.429 RMSE:2.445 PCC:0.130 LOSS_TEST:2.506 RMSE_TEST:2.523 PCC_TEST:0.142\n",
            "Model improve from 2.651 to 2.429. Save model to /content/drive/Shared drives/Bioinformatics/Term Project/train_test_validate_set/model2.h5.\n",
            "24/24 [==============================] - 74s 3s/step - loss: 12.6396 - mse: 8.5337 - val_loss: 12.4804 - val_mse: 6.9217\n",
            "EPOCH:12 Loss:2.491 RMSE:2.508 PCC:0.181 LOSS_VAL:2.613 RMSE:2.631 PCC:0.163 LOSS_TEST:2.685 RMSE_TEST:2.704 PCC_TEST:0.197\n",
            "24/24 [==============================] - 77s 3s/step - loss: 12.4344 - mse: 7.3414 - val_loss: 12.4451 - val_mse: 7.2273\n",
            "EPOCH:13 Loss:2.514 RMSE:2.532 PCC:0.203 LOSS_VAL:2.669 RMSE:2.688 PCC:0.218 LOSS_TEST:2.689 RMSE_TEST:2.708 PCC_TEST:0.247\n",
            "24/24 [==============================] - 73s 3s/step - loss: 12.2869 - mse: 7.1587 - val_loss: 12.1855 - val_mse: 6.0235\n",
            "EPOCH:14 Loss:2.403 RMSE:2.419 PCC:0.234 LOSS_VAL:2.437 RMSE:2.454 PCC:0.275 LOSS_TEST:2.447 RMSE_TEST:2.465 PCC_TEST:0.305\n",
            "24/24 [==============================] - 73s 3s/step - loss: 12.0702 - mse: 6.2701 - val_loss: 12.1153 - val_mse: 6.1817\n",
            "EPOCH:15 Loss:2.422 RMSE:2.438 PCC:0.216 LOSS_VAL:2.469 RMSE:2.486 PCC:0.234 LOSS_TEST:2.470 RMSE_TEST:2.487 PCC_TEST:0.267\n",
            "24/24 [==============================] - 77s 3s/step - loss: 11.9883 - mse: 6.1915 - val_loss: 11.9065 - val_mse: 5.5911\n",
            "EPOCH:16 Loss:2.332 RMSE:2.348 PCC:0.268 LOSS_VAL:2.348 RMSE:2.365 PCC:0.275 LOSS_TEST:2.372 RMSE_TEST:2.389 PCC_TEST:0.316\n",
            "Model improve from 2.429 to 2.348. Save model to /content/drive/Shared drives/Bioinformatics/Term Project/train_test_validate_set/model2.h5.\n",
            "24/24 [==============================] - 73s 3s/step - loss: 11.8164 - mse: 5.8494 - val_loss: 11.8817 - val_mse: 6.1840\n",
            "EPOCH:17 Loss:2.348 RMSE:2.365 PCC:0.308 LOSS_VAL:2.469 RMSE:2.487 PCC:0.318 LOSS_TEST:2.411 RMSE_TEST:2.429 PCC_TEST:0.375\n",
            "24/24 [==============================] - 73s 3s/step - loss: 11.7174 - mse: 5.7742 - val_loss: 11.7864 - val_mse: 6.0222\n",
            "EPOCH:18 Loss:2.367 RMSE:2.383 PCC:0.260 LOSS_VAL:2.437 RMSE:2.454 PCC:0.268 LOSS_TEST:2.423 RMSE_TEST:2.441 PCC_TEST:0.319\n",
            "24/24 [==============================] - 77s 3s/step - loss: 11.6809 - mse: 6.1208 - val_loss: 11.7028 - val_mse: 5.9367\n",
            "EPOCH:19 Loss:2.330 RMSE:2.346 PCC:0.259 LOSS_VAL:2.420 RMSE:2.437 PCC:0.253 LOSS_TEST:2.434 RMSE_TEST:2.452 PCC_TEST:0.305\n",
            "24/24 [==============================] - 73s 3s/step - loss: 11.4840 - mse: 5.4919 - val_loss: 11.6013 - val_mse: 5.9704\n",
            "EPOCH:20 Loss:2.276 RMSE:2.293 PCC:0.350 LOSS_VAL:2.425 RMSE:2.443 PCC:0.361 LOSS_TEST:2.440 RMSE_TEST:2.458 PCC_TEST:0.410\n",
            "24/24 [==============================] - 73s 3s/step - loss: 11.3088 - mse: 5.0411 - val_loss: 11.3603 - val_mse: 5.0881\n",
            "EPOCH:21 Loss:2.117 RMSE:2.132 PCC:0.388 LOSS_VAL:2.239 RMSE:2.256 PCC:0.373 LOSS_TEST:2.320 RMSE_TEST:2.337 PCC_TEST:0.386\n",
            "Model improve from 2.348 to 2.239. Save model to /content/drive/Shared drives/Bioinformatics/Term Project/train_test_validate_set/model2.h5.\n",
            "24/24 [==============================] - 77s 3s/step - loss: 11.1899 - mse: 4.8462 - val_loss: 11.2770 - val_mse: 5.0688\n",
            "EPOCH:22 Loss:2.024 RMSE:2.039 PCC:0.447 LOSS_VAL:2.235 RMSE:2.251 PCC:0.422 LOSS_TEST:2.293 RMSE_TEST:2.311 PCC_TEST:0.444\n",
            "Model improve from 2.239 to 2.235. Save model to /content/drive/Shared drives/Bioinformatics/Term Project/train_test_validate_set/model2.h5.\n",
            "24/24 [==============================] - 72s 3s/step - loss: 11.0239 - mse: 4.4307 - val_loss: 11.1730 - val_mse: 5.0503\n",
            "EPOCH:23 Loss:1.985 RMSE:2.000 PCC:0.463 LOSS_VAL:2.231 RMSE:2.247 PCC:0.420 LOSS_TEST:2.261 RMSE_TEST:2.278 PCC_TEST:0.450\n",
            "Model improve from 2.235 to 2.231. Save model to /content/drive/Shared drives/Bioinformatics/Term Project/train_test_validate_set/model2.h5.\n",
            "24/24 [==============================] - 72s 3s/step - loss: 10.8926 - mse: 4.2563 - val_loss: 11.1237 - val_mse: 5.2730\n",
            "EPOCH:24 Loss:2.047 RMSE:2.062 PCC:0.457 LOSS_VAL:2.279 RMSE:2.296 PCC:0.404 LOSS_TEST:2.273 RMSE_TEST:2.290 PCC_TEST:0.440\n",
            "24/24 [==============================] - 75s 3s/step - loss: 10.8530 - mse: 4.4067 - val_loss: 10.9849 - val_mse: 4.9205\n",
            "EPOCH:25 Loss:2.045 RMSE:2.060 PCC:0.461 LOSS_VAL:2.202 RMSE:2.218 PCC:0.418 LOSS_TEST:2.187 RMSE_TEST:2.204 PCC_TEST:0.453\n",
            "Model improve from 2.231 to 2.202. Save model to /content/drive/Shared drives/Bioinformatics/Term Project/train_test_validate_set/model2.h5.\n",
            "24/24 [==============================] - 73s 3s/step - loss: 10.7219 - mse: 4.2289 - val_loss: 10.9175 - val_mse: 5.0779\n",
            "EPOCH:26 Loss:2.001 RMSE:2.016 PCC:0.471 LOSS_VAL:2.237 RMSE:2.253 PCC:0.416 LOSS_TEST:2.257 RMSE_TEST:2.274 PCC_TEST:0.434\n",
            "24/24 [==============================] - 73s 3s/step - loss: 10.6226 - mse: 4.1787 - val_loss: 10.8202 - val_mse: 4.9617\n",
            "EPOCH:27 Loss:1.965 RMSE:1.979 PCC:0.458 LOSS_VAL:2.211 RMSE:2.227 PCC:0.390 LOSS_TEST:2.259 RMSE_TEST:2.276 PCC_TEST:0.399\n",
            "24/24 [==============================] - 74s 3s/step - loss: 10.5339 - mse: 4.2211 - val_loss: 10.7402 - val_mse: 5.0562\n",
            "EPOCH:28 Loss:1.953 RMSE:1.968 PCC:0.498 LOSS_VAL:2.232 RMSE:2.249 PCC:0.435 LOSS_TEST:2.268 RMSE_TEST:2.286 PCC_TEST:0.450\n",
            "24/24 [==============================] - 73s 3s/step - loss: 10.4670 - mse: 4.2539 - val_loss: 10.7307 - val_mse: 5.4312\n",
            "EPOCH:29 Loss:1.950 RMSE:1.965 PCC:0.496 LOSS_VAL:2.313 RMSE:2.330 PCC:0.391 LOSS_TEST:2.313 RMSE_TEST:2.331 PCC_TEST:0.424\n",
            "24/24 [==============================] - 74s 3s/step - loss: 10.3089 - mse: 3.9960 - val_loss: 10.6079 - val_mse: 5.2528\n",
            "EPOCH:30 Loss:1.898 RMSE:1.913 PCC:0.537 LOSS_VAL:2.275 RMSE:2.292 PCC:0.418 LOSS_TEST:2.257 RMSE_TEST:2.274 PCC_TEST:0.452\n",
            "Get best model at epoch = 25.\n"
          ],
          "name": "stdout"
        }
      ]
    },
    {
      "cell_type": "code",
      "metadata": {
        "id": "K4hDhc8uI4QL",
        "outputId": "70cf2de7-62b7-4605-9dac-2d7558b69db7",
        "colab": {
          "base_uri": "https://localhost:8080/",
          "height": 611
        }
      },
      "source": [
        "print(logs)\n",
        "logs.to_csv(path + 'logs3.csv')"
      ],
      "execution_count": null,
      "outputs": [
        {
          "output_type": "stream",
          "text": [
            "    epoch      loss  pcc_train  ...  loss_test  pcc_test  rmse_test\n",
            "0       1  6.533945  -0.059304  ...   6.722670 -0.142783   6.779032\n",
            "1       2  6.137287   0.041513  ...   6.401539  0.032514   6.456428\n",
            "2       3  5.516870   0.077695  ...   5.856421  0.111386   5.906601\n",
            "3       4  4.872295   0.114948  ...   5.277350  0.170964   5.322283\n",
            "4       5  4.195430   0.127352  ...   4.649406  0.189461   4.688183\n",
            "5       6  3.581473   0.116952  ...   3.999823  0.196667   4.032111\n",
            "6       7  3.099241   0.134812  ...   3.422646  0.213167   3.449271\n",
            "7       8  2.892144   0.138792  ...   3.193854  0.215618   3.218192\n",
            "8       9  2.561418   0.155774  ...   2.811932  0.193601   2.832190\n",
            "9      10  2.528632   0.163073  ...   2.772333  0.192377   2.792179\n",
            "10     11  2.335027   0.156463  ...   2.506166  0.142278   2.522816\n",
            "11     12  2.491372   0.180521  ...   2.685074  0.196940   2.704084\n",
            "12     13  2.514297   0.203218  ...   2.688580  0.247268   2.708134\n",
            "13     14  2.402722   0.233883  ...   2.447474  0.304626   2.465172\n",
            "14     15  2.421880   0.216495  ...   2.469904  0.267482   2.487453\n",
            "15     16  2.331843   0.267945  ...   2.372163  0.315748   2.389212\n",
            "16     17  2.348148   0.307817  ...   2.410861  0.375458   2.428904\n",
            "17     18  2.367022   0.260068  ...   2.423296  0.318516   2.440890\n",
            "18     19  2.329593   0.258817  ...   2.434263  0.304825   2.451830\n",
            "19     20  2.276469   0.349930  ...   2.439686  0.409684   2.458367\n",
            "20     21  2.117252   0.387811  ...   2.319723  0.385865   2.336952\n",
            "21     22  2.024487   0.446936  ...   2.293110  0.444194   2.310659\n",
            "22     23  1.984933   0.462745  ...   2.260942  0.449876   2.278223\n",
            "23     24  2.046934   0.456916  ...   2.272636  0.439687   2.289933\n",
            "24     25  2.045056   0.461249  ...   2.187471  0.453122   2.204042\n",
            "25     26  2.001362   0.470966  ...   2.257000  0.433536   2.274076\n",
            "26     27  1.964541   0.457771  ...   2.259159  0.399041   2.275908\n",
            "27     28  1.953316   0.497766  ...   2.268268  0.450408   2.285628\n",
            "28     29  1.950463   0.495571  ...   2.313175  0.423783   2.330721\n",
            "29     30  1.898184   0.536913  ...   2.256880  0.452087   2.274142\n",
            "\n",
            "[30 rows x 10 columns]\n"
          ],
          "name": "stdout"
        }
      ]
    },
    {
      "cell_type": "code",
      "metadata": {
        "id": "iFtkY8X-ezr9"
      },
      "source": [
        ""
      ],
      "execution_count": null,
      "outputs": []
    }
  ]
}